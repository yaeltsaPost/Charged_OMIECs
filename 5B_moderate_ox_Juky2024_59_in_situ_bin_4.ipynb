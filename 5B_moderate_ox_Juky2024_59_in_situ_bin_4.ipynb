{
 "cells": [
  {
   "cell_type": "markdown",
   "id": "210c6a07-8350-4ce2-a560-0e094d11ce9b",
   "metadata": {},
   "source": [
    "# Flowline analysis of 4D-STEM data from Nicholas Marchese\n",
    "\n",
    "\n",
    "Nicholas Marchese - 24th June, 2025\n",
    "\n",
    "Using the polymers branch  in NM_py4DSTEM"
   ]
  },
  {
   "cell_type": "code",
   "execution_count": null,
   "id": "07686c80",
   "metadata": {},
   "outputs": [],
   "source": [
    "import os\n",
    "os.environ[\"OMP_NUM_THREADS\"] = \"2\" # Change N to required number of threads, \n",
    "                                    # often N=1 is sufficient for most workloads.\n",
    "\n",
    "# import torch\n",
    "\n",
    "# torch.set_num_threads(1) # When using .cpu(), PyTorch will also allocate all cores\n",
    "# #                          # regardless if you set your os environment variable."
   ]
  },
  {
   "cell_type": "markdown",
   "id": "373a919e",
   "metadata": {},
   "source": []
  },
  {
   "cell_type": "code",
   "execution_count": null,
   "id": "9258f438-6c03-48b0-8149-1519d77d087a",
   "metadata": {},
   "outputs": [],
   "source": [
    "%load_ext autoreload\n",
    "%autoreload 2"
   ]
  },
  {
   "cell_type": "code",
   "execution_count": null,
   "id": "e18e2b4e-a843-4ed6-a83d-8f24664483a9",
   "metadata": {},
   "outputs": [],
   "source": [
    "import py4DSTEM\n",
    "import numpy as np\n",
    "from scipy.ndimage import gaussian_filter\n",
    "from scipy.ndimage import binary_dilation, binary_erosion\n",
    "import matplotlib.pyplot as plt\n",
    "import re\n",
    "import random\n",
    "import os\n",
    "from scipy.signal import medfilt2d\n",
    "\n",
    "show = py4DSTEM.visualize.show"
   ]
  },
  {
   "cell_type": "code",
   "execution_count": null,
   "id": "d5f19c38",
   "metadata": {},
   "outputs": [],
   "source": [
    "import matplotlib.pyplot as plt\n",
    "plt.close('all')"
   ]
  },
  {
   "cell_type": "code",
   "execution_count": null,
   "id": "00ff7679-007a-41a8-913a-7d78f4ee3960",
   "metadata": {},
   "outputs": [],
   "source": [
    "py4DSTEM.__version__"
   ]
  },
  {
   "cell_type": "code",
   "execution_count": null,
   "id": "d5b00eaa-e719-4051-9979-1aa68240769b",
   "metadata": {},
   "outputs": [],
   "source": [
    "# file_path_data = '/media/cophus/DATA/4DSTEM/TsarfatiYael/dataset19.dm4'\n",
    "file_data= '/home/yaeltsa/pg3t2/data/07-2024/59_pg3T2_ox_applied0p2mV_insitu_160x160_ss=10nm_CL=2p7m_10umC2_alpha=0p177_bin4_0p013s_spot6__mono20_300kV_15evslit_LN_signal still good/Diffraction SI.dm4'\n",
    "# file_path_Au = '/home/njmarch/data/PB2T-TEG/Au/STEM SI.dm4'\n",
    "# file_path_probe = '/media/cophus/DATA/4DSTEM/TsarfatiYael/probe.dm4'\n",
    "# file_path_output = '/home/njmarch/data/pg3T2/01-09-2025/30/_analysis_'"
   ]
  },
  {
   "cell_type": "code",
   "execution_count": null,
   "id": "5b9acb51",
   "metadata": {},
   "outputs": [],
   "source": [
    "# Extract the date after 'data/'\n",
    "date_match = re.search(r\"data/([^/]+)\", file_data)\n",
    "date = date_match.group(1) if date_match else \"\"\n",
    "# Extract the name before _ca or _mag after the last slash\n",
    "name_match = re.search(r\"/([^/]+?)_(?:ca|mag)\", file_data)\n",
    "name = name_match.group(1) if name_match else \"\"\n",
    "# Concatenate\n",
    "data_id= f\"{date}_{name}\"\n",
    "print(f\"data_id is : {data_id}\")\n",
    "\n",
    "\n",
    "match = re.search(r\"step_size(\\d{1,2})(?!\\d)\", file_data)\n",
    "step_size = match.group(1) if match else \"\"\n",
    "print(f\"step size is : {step_size}\")\n",
    "\n",
    "match = re.search(r\"CL(2p[17])\", file_data)\n",
    "cl_raw = match.group(1) if match else \"\"\n",
    "cl_value = cl_raw.replace('p', '.') if cl_raw else \"\"\n",
    "print(f\"CL value is : {cl_value}\")\n",
    "\n",
    "match = re.search(r\"[bB]in(?:ning)?[-_]?([248])\", file_data)\n",
    "acq_binning = match.group(1) if match else \"\"\n",
    "print(f\"Acquisition Binning is : {acq_binning}\")\n",
    "\n",
    "# file_path_output='/Volumes/Yael-2024/07-03-2024/Results/'+'polar_'+data_id+'/'\n",
    "\n",
    "# if os.path.exists(file_path_output):\n",
    "#     print(\"filePath already exist.\")\n",
    "# else:\n",
    "#     print(file_path_output)\n",
    "#     os.mkdir(file_path_output) "
   ]
  },
  {
   "cell_type": "code",
   "execution_count": null,
   "id": "0ad8d524",
   "metadata": {},
   "outputs": [],
   "source": [
    "step_size = 10\n",
    "acq_binning = 4\n"
   ]
  },
  {
   "cell_type": "markdown",
   "id": "161f3801",
   "metadata": {},
   "source": [
    "# User Input"
   ]
  },
  {
   "cell_type": "code",
   "execution_count": null,
   "id": "db8a85f3",
   "metadata": {},
   "outputs": [],
   "source": [
    "'''\n",
    "Real space to q space rotation\n",
    "old measurement - rotation_calibration_theta= -0.118682 # for 3-15-2021 session TEAMI\n",
    "'''\n",
    "rotation_calibration=-6.8 #degrees \n",
    "# the rotation between real and reciprocal space in radians\n",
    "# The TEM or diffraction pattern in EFTEM mode on the K3 is 186.8 degrees clockwise with respect to the scanned images in Microprobe EFSTEM mode\n",
    "# rotation_calibration_theta= -0.118682 # for 3-15-2021 session TEAMI\n",
    "\n"
   ]
  },
  {
   "cell_type": "code",
   "execution_count": null,
   "id": "f6c3887f",
   "metadata": {},
   "outputs": [],
   "source": [
    "binfactor = 4\n",
    "pixel_size = 0.005276244931972679 #0.005267464108865549 # in A/pixel\n",
    "#print((0.005287732135552322-0.005267464108865549)/0.005287732135552322 )"
   ]
  },
  {
   "cell_type": "markdown",
   "id": "3cf8bece-7705-4823-8f04-6c6e3fc5f8cb",
   "metadata": {},
   "source": [
    "# Import data"
   ]
  },
  {
   "cell_type": "code",
   "execution_count": null,
   "id": "ebb6f6a4-32d6-431b-b755-03f63ac3d567",
   "metadata": {},
   "outputs": [],
   "source": [
    "\n",
    "dataset = py4DSTEM.io.import_file(\n",
    "    file_data,\n",
    "    data_id = 'datacube_0',\n",
    "    binfactor = binfactor,\n",
    ")"
   ]
  },
  {
   "cell_type": "code",
   "execution_count": null,
   "id": "169502b7-0d73-4770-bca7-a9e110140fdb",
   "metadata": {},
   "outputs": [],
   "source": [
    "dataset"
   ]
  },
  {
   "cell_type": "code",
   "execution_count": null,
   "id": "e24a980d",
   "metadata": {},
   "outputs": [],
   "source": [
    "dataset"
   ]
  },
  {
   "cell_type": "code",
   "execution_count": null,
   "id": "fcf0e12a",
   "metadata": {},
   "outputs": [],
   "source": [
    "dataset.data.shape"
   ]
  },
  {
   "cell_type": "code",
   "execution_count": null,
   "id": "ba94efa8",
   "metadata": {},
   "outputs": [],
   "source": [
    "dataset.R_pixel_size\n"
   ]
  },
  {
   "cell_type": "code",
   "execution_count": null,
   "id": "2619cb34",
   "metadata": {},
   "outputs": [],
   "source": [
    "dataset.R_pixel_units\n"
   ]
  },
  {
   "cell_type": "code",
   "execution_count": null,
   "id": "d96bdc1a",
   "metadata": {},
   "outputs": [],
   "source": [
    "# dataset.calibration.set_R_pixel_size(6.844)\n",
    "# dataset.calibration.set_R_pixel_units('nm')\n",
    "dataset.calibration.set_Q_pixel_size(pixel_size)  # For binfactor of 4\n",
    "dataset.calibration.set_Q_pixel_units('A^-1')"
   ]
  },
  {
   "cell_type": "code",
   "execution_count": null,
   "id": "9d73c726",
   "metadata": {},
   "outputs": [],
   "source": [
    "# dataset.bin_Q(4)"
   ]
  },
  {
   "cell_type": "code",
   "execution_count": null,
   "id": "31c8d60e",
   "metadata": {},
   "outputs": [],
   "source": [
    "dp_max = dataset.get_dp_max();\n",
    "dp_mean = dataset.get_dp_mean();"
   ]
  },
  {
   "cell_type": "code",
   "execution_count": null,
   "id": "3c3401bf-b78a-4218-a8d4-ed65998405ca",
   "metadata": {},
   "outputs": [],
   "source": [
    "py4DSTEM.show(\n",
    "    [\n",
    "        dataset.tree('dp_mean'),\n",
    "        dataset.tree('dp_max'),\n",
    "    ]\n",
    "        )"
   ]
  },
  {
   "cell_type": "code",
   "execution_count": null,
   "id": "6939ef6b",
   "metadata": {},
   "outputs": [],
   "source": [
    "mask_hot_pixels =  dataset.tree('dp_mean').data - medfilt2d(dataset.tree('dp_mean').data) > 0.3 * dataset.tree('dp_mean').data\n",
    "print('Total hot pixels = ' + str(mask_hot_pixels.sum()))\n",
    "\n",
    "# py4DSTEM.show(\n",
    "#     mask_hot_pixels,\n",
    "#     figsize=(6,6),\n",
    "# )\n",
    "# Apply mask - this step is not reversible!\n",
    "dataset.data *= (1 - mask_hot_pixels[None,None,:,:].astype('uint8'))\n",
    "dataset.get_dp_mean();\n",
    "dataset.get_dp_max();\n",
    "py4DSTEM.show(\n",
    "    dataset.tree('dp_mean'),\n",
    "    figsize=(6,6),\n",
    ")"
   ]
  },
  {
   "cell_type": "code",
   "execution_count": null,
   "id": "ab6e9101",
   "metadata": {},
   "outputs": [],
   "source": [
    "sliced = dataset.data[::6, ::6]\n",
    "\n",
    "              \n",
    "py4DSTEM.show(\n",
    "    [[\n",
    "        gaussian_filter(\n",
    "            py4DSTEM.process.utils.bin2D(sliced[i, j], 2),\n",
    "            sigma=1,\n",
    "        )\n",
    "            for j in range(sliced.shape[1])] for i in range(sliced.shape[0])\n",
    "    ],\n",
    "    # vmin=0.3,\n",
    "    # vmax = 0.994,\n",
    "    vmin=0.8,\n",
    "    vmax = 0.98,\n",
    "    ticks = False,\n",
    "    axsize=(1, 1),\n",
    "    cmap='turbo',\n",
    ")"
   ]
  },
  {
   "cell_type": "code",
   "execution_count": null,
   "id": "f51579cc",
   "metadata": {},
   "outputs": [],
   "source": [
    "# sliced = dataset.data[50:70, 10:20, 40:60, 43:63]\n",
    "\n",
    "              \n",
    "# py4DSTEM.show(\n",
    "#     [[\n",
    "#         sliced[i, j] for j in range(sliced.shape[1])] for i in range(sliced.shape[0])\n",
    "#     ],\n",
    "#     # vmin=0.3,\n",
    "#     # vmax = 0.994,\n",
    "#     vmin=0.8,\n",
    "#     vmax = 0.98,\n",
    "#     ticks = False,\n",
    "#     axsize=(2,2),\n",
    "#     cmap='turbo',\n",
    "# )"
   ]
  },
  {
   "cell_type": "code",
   "execution_count": null,
   "id": "f36c3c1f-bcef-4a6c-8747-30527e32e8e0",
   "metadata": {},
   "outputs": [],
   "source": [
    "# probe = py4DSTEM.io.read(\n",
    "#     file_path_probe,\n",
    "#     binfactor=2,\n",
    "# )"
   ]
  },
  {
   "cell_type": "markdown",
   "id": "3d82ecf4-32c0-4fce-83c2-89652903bdda",
   "metadata": {},
   "source": [
    "# Preprocessing"
   ]
  },
  {
   "cell_type": "code",
   "execution_count": null,
   "id": "ff5e0f5e-c8ee-4dd7-a2b3-70b5dc910060",
   "metadata": {},
   "outputs": [],
   "source": [
    "# Save the output data and probe\n",
    "# py4DSTEM.io.save(\n",
    "#     file_path_output,\n",
    "#     dataset,\n",
    "# )"
   ]
  },
  {
   "cell_type": "code",
   "execution_count": null,
   "id": "5658aefe",
   "metadata": {},
   "outputs": [],
   "source": [
    "center = (dataset.shape[2]/2-15, dataset.shape[3]/2-10)\n",
    "expand_BF = 6\n",
    "expand_BF_DF = expand_BF+6\n",
    "geometry_BF = (center, expand_BF)\n",
    "geometry_DF = (center, (expand_BF_DF, 100))\n",
    "\n",
    "# Show selected virtual detectors\n",
    "\n",
    "dataset.position_detector(\n",
    "    data = dp_max,\n",
    "    mode = 'circle',\n",
    "    geometry = geometry_BF,\n",
    ")\n",
    "\n",
    "dataset.position_detector(\n",
    "    data = dp_max,\n",
    "    mode = 'annulus',\n",
    "    geometry = geometry_DF,\n",
    ")"
   ]
  },
  {
   "cell_type": "code",
   "execution_count": null,
   "id": "9f31a737-49ce-45a5-b781-2ceee8fc266c",
   "metadata": {},
   "outputs": [],
   "source": [
    "center_real= [dataset.R_Nx/2-1,dataset.R_Ny/2-10]# right, down\n",
    "#  Calculate both virtual images\n",
    "im_bf = dataset.get_virtual_image(\n",
    "    mode = 'circle',\n",
    "    geometry = geometry_BF,\n",
    "    name = 'bright_field'\n",
    ");\n",
    "im_adf = dataset.get_virtual_image(\n",
    "    mode = 'annulus',\n",
    "    geometry = geometry_DF,\n",
    "    name = 'dark_field'\n",
    ");\n",
    "\n",
    "py4DSTEM.show(\n",
    "    [im_bf,im_adf],\n",
    "    figsize=(16,8),\n",
    "    bordercolor = 'w',\n",
    "    cmap='viridis',\n",
    "    title=['Bright Field (BF)','Annular Dark Field (ADF)'],\n",
    "    axsize = (4,8),\n",
    ")\n",
    "\n"
   ]
  },
  {
   "cell_type": "code",
   "execution_count": null,
   "id": "dfb29db1",
   "metadata": {},
   "outputs": [],
   "source": [
    "py4DSTEM.visualize.show_points(\n",
    "    im_bf,\n",
    "    x=center_real[0],\n",
    "    y=center_real[0],\n",
    "    pointcolor='r',\n",
    "    figsize=(4,4)\n",
    ")\n"
   ]
  },
  {
   "cell_type": "code",
   "execution_count": null,
   "id": "41735e6c",
   "metadata": {},
   "outputs": [],
   "source": [
    "# Make mask for dataset which is not over hole region\n",
    "print(np.min(im_bf.data))\n",
    "print(np.max(im_bf.data))\n",
    "print(np.min(im_adf.data))\n",
    "print(np.max(im_adf.data))\n",
    "print(dataset.shape)\n"
   ]
  },
  {
   "cell_type": "code",
   "execution_count": null,
   "id": "34a9eeab",
   "metadata": {},
   "outputs": [],
   "source": [
    "xs_reals, ys_reals = np.meshgrid(np.arange(dataset.shape[1]), np.arange(dataset.shape[0])) \n",
    "\n",
    "r_max = 107#150#103\n",
    "mask = (xs_reals - center_real[0])**2 + (ys_reals - center_real[1])**2 > r_max**2\n",
    "mask = binary_dilation(mask, iterations=3)\n",
    "print(im_bf.data)\n",
    "print(np.sum(mask))\n",
    "print(np.ma.masked_array(im_bf.data, mask))\n",
    "py4DSTEM.show(\n",
    "    [np.ma.masked_array(im_bf.data, mask),np.ma.masked_array(im_adf.data, mask)],\n",
    "    figsize=(16,8),\n",
    "    bordercolor = 'w',\n",
    "    cmap='viridis',\n",
    "    title=['Bright Field (BF)','Annular Dark Field (ADF)'],\n",
    "    axsize = (4,8),\n",
    ")"
   ]
  },
  {
   "cell_type": "code",
   "execution_count": null,
   "id": "f6fc6bce",
   "metadata": {},
   "outputs": [],
   "source": [
    "probe = py4DSTEM.braggvectors.Probe(dp_mean.data)"
   ]
  },
  {
   "cell_type": "code",
   "execution_count": null,
   "id": "1ae336a8",
   "metadata": {},
   "outputs": [],
   "source": [
    "probe.measure_disk()"
   ]
  },
  {
   "cell_type": "code",
   "execution_count": null,
   "id": "ca83fc3b",
   "metadata": {},
   "outputs": [],
   "source": [
    "probe_semiangle, probe_qx0, probe_qy0 = py4DSTEM.process.calibration.get_probe_size(probe.probe)"
   ]
  },
  {
   "cell_type": "code",
   "execution_count": null,
   "id": "3dd01c49",
   "metadata": {},
   "outputs": [],
   "source": [
    "probe.get_kernel(\n",
    "  mode = 'sigmoid',\n",
    "  origin = (probe_qx0, probe_qy0),\n",
    "  radii = (\n",
    "      probe_semiangle*1.0,\n",
    "      probe_semiangle*3.0,\n",
    "   )\n",
    ")\n",
    "\n",
    "py4DSTEM.visualize.show_kernel(\n",
    "    probe.kernel,\n",
    "    R = 30,\n",
    "    L = 30,\n",
    "    W = 1,\n",
    "    figsize = (6,3),\n",
    ")"
   ]
  },
  {
   "cell_type": "code",
   "execution_count": null,
   "id": "c8a1511b-629b-4400-b7e5-e48d545ffa4f",
   "metadata": {},
   "outputs": [],
   "source": [
    "# Choose some diffraction patterns to use for hyperparameter tuning\n",
    "n_samples_x = 6\n",
    "n_samples_y = 6\n",
    "rxs, rys = np.meshgrid(\n",
    "        np.round(np.linspace(0 + dataset.shape[0] / 10, dataset.shape[0] - dataset.shape[0] / 10, n_samples_x)).astype(int),\n",
    "        np.round(np.linspace(0 + dataset.shape[1] / 10, dataset.shape[1] - dataset.shape[1] / 10, n_samples_y)).astype(int),\n",
    ")\n",
    "rxs = list(rxs.flatten())\n",
    "rys = list(rys.flatten())\n",
    "colors = ['r' for i in range(len(rxs))]\n",
    "\n",
    "py4DSTEM.visualize.show_points(\n",
    "    im_adf,\n",
    "    x=rxs,\n",
    "    y=rys,\n",
    "    pointcolor=colors,\n",
    "    figsize=(4,4)\n",
    ")\n",
    "\n",
    "py4DSTEM.visualize.show_image_grid(\n",
    "    get_ar = lambda i:dataset.data[rxs[i],rys[i],:,:],\n",
    "    H=n_samples_x,\n",
    "    W=n_samples_y,\n",
    "    axsize=(3,3),\n",
    "    power = 0.5,\n",
    "    get_bordercolor = lambda i:colors[i],\n",
    ")"
   ]
  },
  {
   "cell_type": "code",
   "execution_count": null,
   "id": "679df541",
   "metadata": {},
   "outputs": [],
   "source": [
    "# Find the brightest disk in the image, which will be the unscattered center beam in this data.\n",
    "(qx0, qy0, _) = py4DSTEM.process.calibration.get_origin(\n",
    "    dataset,\n",
    "    r = probe_semiangle,\n",
    "    rscale = 2.0,\n",
    ")"
   ]
  },
  {
   "cell_type": "code",
   "execution_count": null,
   "id": "732cc095",
   "metadata": {},
   "outputs": [],
   "source": [
    "# Fit a plane to the origins\n",
    "(qx0_fit, qy0_fit, qx0_res, qy0_res) = py4DSTEM.process.calibration.fit_origin(\n",
    "    (qx0, qy0),\n",
    "    fitfunction=\"plane\",\n",
    ")\n",
    "\n",
    "# plot the original and fitted origin shifts\n",
    "py4DSTEM.show(\n",
    "    [\n",
    "        [qx0 - center[0], qx0_fit - center[0], qx0_res],\n",
    "        [qy0 - center[1], qy0_fit - center[1], qy0_res],\n",
    "    ],\n",
    "    cmap = 'RdBu_r',\n",
    "    intensity_range='absolute',    \n",
    "    vmin = -2,\n",
    "    vmax = 2,\n",
    ")"
   ]
  },
  {
   "cell_type": "code",
   "execution_count": null,
   "id": "12bf4752",
   "metadata": {},
   "outputs": [],
   "source": [
    "# add the centering calibration to the dataset\n",
    "dataset.calibration.set_origin((qx0_fit, qy0_fit))"
   ]
  },
  {
   "cell_type": "code",
   "execution_count": null,
   "id": "4750a419",
   "metadata": {},
   "outputs": [],
   "source": [
    "# First, generate mean diffraction pattern using the centered patterns\n",
    "dp_mean_centered = dataset.get_virtual_diffraction(\n",
    "    method = 'mean',\n",
    "    shift_center = True,\n",
    ")"
   ]
  },
  {
   "cell_type": "code",
   "execution_count": null,
   "id": "801dc238",
   "metadata": {},
   "outputs": [],
   "source": [
    "# compare the original, unshifted mean DP to the corrected one:\n",
    "py4DSTEM.show(\n",
    "    [\n",
    "        dataset.tree('dp_mean'),\n",
    "        dp_mean_centered,\n",
    "        # [dataset.tree('dp_mean').daata - dp_mean_centered]\n",
    "    ],\n",
    "    axsize = (8, 8),\n",
    "    scaling = 'log',\n",
    "    vmax = 1,\n",
    ")\n",
    "\n",
    "# Here since centered image shifts origin of diffraction pattern for each detector position in realspace, the average value of a pixel over all diffraction patterns will become more gathered according to that shift\n",
    "# In other words, the diffraction signal will be shifted according to the origin shift, undoing the smearing of signal (here seen as origins being skewed along diagonals)"
   ]
  },
  {
   "cell_type": "code",
   "execution_count": null,
   "id": "ccfc73b1",
   "metadata": {},
   "outputs": [],
   "source": [
    "# Fitting range for diffraction ring\n",
    "# q_range = (12,28)  # amorphous halo\n",
    "q_range = (145 / binfactor, 270 / binfactor)  # inner ring\n",
    "\n",
    "\n",
    "# This is a test plot, showing you the fitting range\n",
    "py4DSTEM.process.polar.fit_amorphous_ring(\n",
    "    dp_mean_centered,\n",
    "    center = (np.mean(qx0_fit), np.mean(qy0_fit)),\n",
    "    radial_range = q_range, \n",
    "    show_fit_mask = True,\n",
    "    verbose = False,\n",
    "    figsize = (8, 8),\n",
    ");"
   ]
  },
  {
   "cell_type": "code",
   "execution_count": null,
   "id": "29176dd1",
   "metadata": {},
   "outputs": [],
   "source": [
    "params = (np.mean(qx0_fit),\n",
    " np.mean(qy0_fit),\n",
    " np.float64(40.73975833083233),\n",
    " np.float64(39.59277672372462),\n",
    " np.float64(-2.729947861471881))\n",
    "\n",
    "p_dsg = np.array([ 3.76876214e+01,  4.63609962e+00,  3.42475483e+01,  1.57990098e+00,\n",
    "        1.06194367e+01, -2.10330192e+01,  np.mean(qx0_fit),  np.mean(qy0_fit),\n",
    "        6.08178012e-04, -2.59723818e-05,  6.32253116e-04])"
   ]
  },
  {
   "cell_type": "code",
   "execution_count": null,
   "id": "047b0a60",
   "metadata": {},
   "outputs": [],
   "source": [
    "# apply the elliptic calibrations\n",
    "dataset.calibration.set_ellipse(params[2:5])"
   ]
  },
  {
   "cell_type": "code",
   "execution_count": null,
   "id": "1338409d",
   "metadata": {},
   "outputs": [],
   "source": [
    "dp_mean_ellipse = dataset.get_virtual_diffraction(\n",
    "    method = 'mean',\n",
    "    shift_center = True,\n",
    ")"
   ]
  },
  {
   "cell_type": "code",
   "execution_count": null,
   "id": "6756931f",
   "metadata": {},
   "outputs": [],
   "source": [
    "# Plot a 2D histogram of the Bragg peaks\n",
    "py4DSTEM.visualize.show_amorphous_ring_fit(\n",
    "    dp_mean_ellipse.data,\n",
    "    fitradii = q_range,\n",
    "    p_dsg = p_dsg,\n",
    "    figsize=(8,8),\n",
    "    ellipse=True,\n",
    ")"
   ]
  },
  {
   "cell_type": "code",
   "execution_count": null,
   "id": "af199b9f",
   "metadata": {},
   "outputs": [],
   "source": [
    "polardata = py4DSTEM.PolarDatacube(\n",
    "    dataset,\n",
    "    qmin = 0,\n",
    "    qmax = 100.0,\n",
    "    # qstep = 1,\n",
    "    qstep = 0.5,\n",
    "    n_annular = 100,\n",
    "    two_fold_symmetry = True,\n",
    "    qscale = 1.0,\n",
    ")\n"
   ]
  },
  {
   "cell_type": "code",
   "execution_count": null,
   "id": "76946905",
   "metadata": {},
   "outputs": [],
   "source": [
    "# show polar transformation for different probe positions\n",
    "\n",
    "# x,y = 50, 70\n",
    "x,y = 30, 30\n",
    "\n",
    "# x,y = 1,160\n",
    "\n",
    "# Show pattern in cartesian + polar\n",
    "py4DSTEM.show( \n",
    "    [\n",
    "        dataset.data[x,y],\n",
    "        polardata.data[x,y],\n",
    "    ],\n",
    "    # intensity_range = 'absolute',\n",
    "    # vmax = 40,\n",
    "    cmap = 'turbo',\n",
    "    axsize = (4,4),\n",
    ")\n",
    "\n",
    "# What determines theta = 0 axis?\n",
    "# Theta is angle from x "
   ]
  },
  {
   "cell_type": "markdown",
   "id": "cd825069",
   "metadata": {},
   "source": []
  },
  {
   "cell_type": "code",
   "execution_count": null,
   "id": "6b3e5215",
   "metadata": {},
   "outputs": [],
   "source": [
    "x, y = 9, 50\n",
    "\n",
    "rx = np.arange(3)\n",
    "ry = np.arange(3)\n",
    "xs = x-2+rx\n",
    "ys = y-3+ry"
   ]
  },
  {
   "cell_type": "code",
   "execution_count": null,
   "id": "89cbe586",
   "metadata": {},
   "outputs": [],
   "source": [
    "# show polar transformation for different probe positions\n",
    "# Show pattern in cartesian + polar\n",
    "for i in xs:\n",
    "    py4DSTEM.show( \n",
    "        [\n",
    "            [dataset.data[i, j] for j in ys],\n",
    "            [polardata.data[i, j] for j in ys]\n",
    "        ],\n",
    "        # intensity_range = 'absolute',\n",
    "        # vmax = 40,\n",
    "        # cmap = 'turbo',\n",
    "        axsize = (4,4),\n",
    "        vmin = -0.998,\n",
    "        vmax = 0.998,\n",
    "        power=1,\n",
    "        cmap='viridis',\n",
    "     \n",
    "    )\n",
    "\n",
    "# What determines theta = 0 axis?\n",
    "# Theta is angle from x "
   ]
  },
  {
   "cell_type": "code",
   "execution_count": null,
   "id": "9ad4ee90",
   "metadata": {},
   "outputs": [],
   "source": [
    "# Q Range 0-30\n",
    "\n",
    "# Reference position (e.g., 120,190 from your comment)\n",
    "# x, y = 60, 60\n",
    "\n",
    "\n",
    "\n",
    "positions = [(xv, yv) for xv in xs for yv in ys]\n",
    "\n",
    "detect_params_1 = {\n",
    "    'sigma_annular_deg': 3,#4,\n",
    "    'sigma_radial_px': 1.5, #1.3,\n",
    "    # 'threshold_abs': 0.855,\n",
    "    'threshold_abs': 0.1,\n",
    "    'threshold_prom_radial': 0.01,#0.15\n",
    "    'threshold_prom_annular': 0.08,\n",
    "    # 'radial_lower_bound': 0,\n",
    "    # 'radial_upper_bound': 30,\n",
    "}\n",
    "\n",
    "fig, ax = plt.subplots(len(positions), 2, figsize=(10, len(positions)*3))\n",
    "\n",
    "for i, (x_val, y_val) in enumerate(positions):\n",
    "    # Cartesian plot (left column)\n",
    "    cart_data = gaussian_filter(dataset.data[x_val, y_val], sigma=0.5)\n",
    "    ax[i, 0].imshow(cart_data, cmap='gray', vmin=0, vmax=5)\n",
    "    ax[i, 0].set_title(f\"({x_val},{y_val}) Cartesian\")\n",
    "    ax[i, 0].axis('off')\n",
    "\n",
    "    # Polar plot with peaks (right column)\n",
    "    polardata.find_peaks_single_pattern(\n",
    "        x_val, y_val,\n",
    "        plot_power_scale=0.5, \n",
    "        plot_scale_size=0.05,\n",
    "        return_background=True,\n",
    "        figax=(fig, ax[i, 1]),\n",
    "        **detect_params_1,\n",
    "        ticks=False,\n",
    "        vmin = 0,\n",
    "        vmax = 0.9998,\n",
    "      \n",
    "        power=1,\n",
    "        cmap='viridis',\n",
    "        plot_result=True,\n",
    "    )\n",
    "    ax[i, 1].axvline(x=30, color='red', linestyle='--', linewidth=1)\n",
    "    ax[i, 1].set_title(\"Polar\")\n",
    "\n",
    "plt.tight_layout()\n"
   ]
  },
  {
   "cell_type": "code",
   "execution_count": null,
   "id": "bc258c3c",
   "metadata": {},
   "outputs": [],
   "source": [
    "# Q Range 30-60\n",
    "detect_params_2 = {\n",
    "    'sigma_annular_deg': 2,#3\n",
    "    'sigma_radial_px':2,#3\n",
    "    # 'threshold_abs': 0.855,\n",
    "    'threshold_abs': 0.01,\n",
    "    'threshold_prom_radial': 0.1,\n",
    "    'threshold_prom_annular': 0.1,\n",
    "    # 'radial_lower_bound': 30,\n",
    "    # 'radial_upper_bound': 70,\n",
    "}\n",
    "\n",
    "# Reference position (e.g., 120,190 from your comment)\n",
    "\n",
    "\n",
    "positions = [(xv, yv) for xv in xs for yv in ys]\n",
    "\n",
    "\n",
    "fig, ax = plt.subplots(len(positions), 2, figsize=(10, len(positions)*3))\n",
    "\n",
    "for i, (x_val, y_val) in enumerate(positions):\n",
    "    # Cartesian plot (left column)\n",
    "    cart_data = gaussian_filter(dataset.data[x_val, y_val], sigma=0.1)\n",
    "    ax[i, 0].imshow(cart_data, cmap='gray', vmin=0, vmax=2)\n",
    "    ax[i, 0].set_title(f\"({x_val},{y_val}) Cartesian\")\n",
    "    ax[i, 0].axis('off')\n",
    "\n",
    "    # Polar plot with peaks (right column)\n",
    "    polardata.find_peaks_single_pattern(\n",
    "        x_val, y_val,\n",
    "        plot_power_scale=0.5, \n",
    "        plot_scale_size=0.05,\n",
    "        return_background=True,\n",
    "        figax=(fig, ax[i, 1]),\n",
    "        **detect_params_2,\n",
    "        ticks=False,\n",
    "        vmin = -0.998,\n",
    "        vmax = 0.998,\n",
    "        power=1,\n",
    "        cmap='viridis',\n",
    "        plot_result=True,\n",
    "    )\n",
    "    ax[i, 1].axvline(x=30, color='red', linestyle='--', linewidth=1)\n",
    "    ax[i, 1].axvline(x=60, color='red', linestyle='--', linewidth=1)\n",
    "\n",
    "    ax[i, 1].set_title(\"Polar\")\n",
    "\n",
    "plt.tight_layout()"
   ]
  },
  {
   "cell_type": "code",
   "execution_count": null,
   "id": "208fbab8",
   "metadata": {},
   "outputs": [],
   "source": [
    "\n",
    "positions = [(xv, yv) for xv in xs for yv in ys]\n",
    "\n",
    "detect_params_3 = {\n",
    "    'sigma_annular_deg': 2.5,#3.5,\n",
    "    'sigma_radial_px': 2,\n",
    "    # 'threshold_abs': 0.855,\n",
    "    'threshold_abs': 0.1,\n",
    "    'threshold_prom_radial': 0.25,\n",
    "    'threshold_prom_annular': 0.2,\n",
    "    # 'radial_lower_bound': 70,\n",
    "    # 'radial_upper_bound': 300,\n",
    "}\n",
    "\n",
    "fig, ax = plt.subplots(len(positions), 2, figsize=(10, len(positions)*3))\n",
    "\n",
    "for i, (x_val, y_val) in enumerate(positions):\n",
    "    # Cartesian plot (left column)\n",
    "    cart_data = gaussian_filter(dataset.data[x_val, y_val], sigma=0.2)\n",
    "    ax[i, 0].imshow(cart_data, cmap='gray', vmin=0, vmax=5)\n",
    "    ax[i, 0].set_title(f\"({x_val},{y_val}) Cartesian\")\n",
    "    ax[i, 0].axis('off')\n",
    "\n",
    "    # Polar plot with peaks (right column)\n",
    "    polardata.find_peaks_single_pattern(\n",
    "        x_val, y_val,\n",
    "        plot_power_scale=0.5, \n",
    "        plot_scale_size=0.05,\n",
    "        return_background=True,\n",
    "        figax=(fig, ax[i, 1]),\n",
    "        **detect_params_3,\n",
    "        ticks=False,\n",
    "        vmin = 0,\n",
    "        vmax = 0.9998,\n",
    "      \n",
    "        power=1,\n",
    "        cmap='viridis',\n",
    "        plot_result=True,\n",
    "    )\n",
    "    ax[i, 1].axvline(x=70, color='red', linestyle='--', linewidth=1)\n",
    "    ax[i, 1].axvline(x=160, color='red', linestyle='--', linewidth=1)\n",
    "\n",
    "    ax[i, 1].set_title(\"Polar\")\n",
    "\n",
    "plt.tight_layout()"
   ]
  },
  {
   "cell_type": "code",
   "execution_count": null,
   "id": "e8b0ad18",
   "metadata": {},
   "outputs": [],
   "source": [
    "kwargs_pass = []\n",
    "\n",
    "detect_params = {\n",
    "    'sigma_annular_deg':  detect_params_1 ['sigma_annular_deg'],#4,\n",
    "    'sigma_radial_px': detect_params_1 ['sigma_radial_px'],# #1.3,\n",
    "    'threshold_abs': detect_params_1 ['threshold_abs'],# #1.3,\n",
    "    'threshold_prom_radial': detect_params_1 ['threshold_prom_radial'],# #1.3,\n",
    "    'threshold_prom_annular': detect_params_1 ['threshold_prom_annular'],# #1.3,\n",
    "    'radial_lower_bound': 0,# #1.3,\n",
    "    'radial_upper_bound': 30,\n",
    "}\n",
    "kwargs_pass.append(detect_params)\n",
    "\n",
    "detect_params = {\n",
    "    'sigma_annular_deg':  detect_params_2 ['sigma_annular_deg'],#4,\n",
    "    'sigma_radial_px': detect_params_2 ['sigma_radial_px'],# #1.3,\n",
    "    'threshold_abs': detect_params_2 ['threshold_abs'],# #1.3,\n",
    "    'threshold_prom_radial': detect_params_2 ['threshold_prom_radial'],# #1.3,\n",
    "    'threshold_prom_annular': detect_params_2 ['threshold_prom_annular'],# #1.3,\n",
    "    'radial_lower_bound': 30,\n",
    "    'radial_upper_bound': 60,\n",
    "}\n",
    "kwargs_pass.append(detect_params)\n",
    "\n",
    "detect_params = {\n",
    "    'sigma_annular_deg':  detect_params_3 ['sigma_annular_deg'],#4,\n",
    "    'sigma_radial_px': detect_params_3 ['sigma_radial_px'],# #1.3,\n",
    "    'threshold_abs': detect_params_3 ['threshold_abs'],# #1.3,\n",
    "    'threshold_prom_radial': detect_params_3 ['threshold_prom_radial'],# #1.3,\n",
    "    'threshold_prom_annular': detect_params_3 ['threshold_prom_annular'],# #1.3,\n",
    "    'radial_lower_bound': 60,\n",
    "    'radial_upper_bound': 200,\n",
    "}\n",
    "kwargs_pass.append(detect_params)\n",
    "\n",
    "polardata.find_peaks_segmented(\n",
    "    mask_real=~mask,\n",
    "    kwargs_pass=kwargs_pass,\n",
    ")\n"
   ]
  },
  {
   "cell_type": "code",
   "execution_count": null,
   "id": "d72deb20",
   "metadata": {},
   "outputs": [],
   "source": [
    "# im_polar_sm = polardata.find_peaks_single_pattern(\n",
    "#     xs[0], ys[3],\n",
    "#     plot_power_scale = 0.5, \n",
    "#     plot_scale_size=0.05,\n",
    "#     return_background = True,\n",
    "#     # returnfig = True,\n",
    "#     # figax = (fig,ax[x_ind, y_ind+1]),\n",
    "#     **detect_params,\n",
    "#     ticks = False,\n",
    "#     vmin = -0.998,\n",
    "#     vmax = 0.998,\n",
    "#     # cmap='turbo',\n",
    "#     # plot_result=True,\n",
    "#     # plot_smoothed_image = False,\n",
    "# )\n",
    "# fig, ax = plt.subplots()\n",
    "# im = ax.matshow(im_polar_sm)\n",
    "# plt.colorbar(im)\n",
    "# plt.show()"
   ]
  },
  {
   "cell_type": "code",
   "execution_count": null,
   "id": "a41850df",
   "metadata": {},
   "outputs": [],
   "source": [
    "# peaks_polar, sig_bg, sig_bg_mask = polardata.find_peaks_single_pattern(\n",
    "#     xs[0], ys[3],\n",
    "#     plot_power_scale = 0.5, \n",
    "#     plot_scale_size=0.05,\n",
    "#     return_background = True,\n",
    "#     # # returnfig = True,\n",
    "#     # # figax = (fig,ax[x_ind, y_ind+1]),\n",
    "#     **detect_params,\n",
    "#     ticks = False,\n",
    "#     vmin = -0.998,\n",
    "#     # vmax = 0.998,\n",
    "#     # # cmap='turbo',\n",
    "#     plot_result=True,\n",
    "#     # plot_smoothed_image = False,\n",
    "# )\n",
    "\n",
    "# fig, ax = plt.subplots()\n",
    "# ax.matshow(im_polar_sm)\n",
    "# ax.scatter(peaks_polar[\"qr\"], peaks_polar[\"qt\"], c='r')"
   ]
  },
  {
   "cell_type": "code",
   "execution_count": null,
   "id": "3227ed5d",
   "metadata": {},
   "outputs": [],
   "source": [
    "# import skimage\n",
    "# im_peaks = skimage.feature.peak_local_max(\n",
    "#     im_polar_sm,\n",
    "#     num_peaks=100,\n",
    "#     threshold_abs=0.5,\n",
    "#     exclude_border=False,\n",
    "# )\n",
    "# fig, ax = plt.subplots()\n",
    "# ax.matshow(im_polar_sm)\n",
    "# ax.scatter(im_peaks[:, 1], im_peaks[:, 0], c='r')"
   ]
  },
  {
   "cell_type": "code",
   "execution_count": null,
   "id": "632ecb0c",
   "metadata": {},
   "outputs": [],
   "source": [
    "plt.matshow(~mask)\n",
    "plt.colorbar()"
   ]
  },
  {
   "cell_type": "code",
   "execution_count": null,
   "id": "e1130d42",
   "metadata": {},
   "outputs": [],
   "source": [
    "polardata.model_radial_background(\n",
    "    ring_position = [0.01, 0.25, 0.5, 1],\n",
    "    ring_sigma = [0.1, 0.0055, 0.055, 0.5],\n",
    "    refine_model = True,\n",
    "    figsize = (8,3),\n",
    ")\n",
    "# (minmum background intensity, background intensity range, sigma, (ring intesity, ring sigma, ring position))"
   ]
  },
  {
   "cell_type": "code",
   "execution_count": null,
   "id": "07b70783",
   "metadata": {},
   "outputs": [],
   "source": [
    "# This is a 1D histogram of the detected peaks, before refinement\n",
    "peak_ranges = [\n",
    "    # polardata.qmin, 0.05,\n",
    "    0.0225, 0.054,\n",
    "    0.12, 0.15,  # 1st peak range\n",
    "    0.22, 0.33,  # 2nd peak range\n",
    "]\n",
    "peak_positions_inv_A = [\n",
    "    0.0085,\n",
    "    0.0295,\n",
    "    0.268,  # 2nd peak position\n",
    "]\n",
    "polardata.plot_radial_peaks(\n",
    "    # q_pixel_units = True,\n",
    "    figsize = (8,2),\n",
    "    qmin=0,\n",
    "    v_lines=[\n",
    "        *peak_ranges,\n",
    "        # *peak_positions_inv_A\n",
    "\n",
    "    ]\n",
    ")"
   ]
  },
  {
   "cell_type": "code",
   "execution_count": null,
   "id": "f75325da",
   "metadata": {},
   "outputs": [],
   "source": [
    "# This is a 1D histogram of the detected peaks, before refinement\n",
    "# peak_ranges = [\n",
    "#     # polardata.qmin, 0.05,\n",
    "#     0.0283, 0.073,\n",
    "#     0.113, 0.185, # 1st peak range\n",
    "#     0.22, 0.32,  # 2nd peak range\n",
    "# ]\n",
    "peak_positions_inv_A = [\n",
    "    0.0085,\n",
    "    0.0295,\n",
    "    0.268,  # 2nd peak position\n",
    "]\n",
    "polardata.plot_radial_peaks(\n",
    "    # q_pixel_units = True,\n",
    "    figsize = (8,2),\n",
    "    qmin=0,\n",
    "    v_lines=[\n",
    "        *peak_ranges,\n",
    "        # *peak_positions_inv_A\n",
    "\n",
    "    ]\n",
    ")\n",
    "plt.ylim(0, 600)  # If using matplotlib\n"
   ]
  },
  {
   "cell_type": "code",
   "execution_count": null,
   "id": "3c76918f",
   "metadata": {},
   "outputs": [],
   "source": [
    "# This is a 1D histogram of the detected peaks, before refinement\n",
    "\n",
    "# peak_positions_inv_A = [\n",
    "#     0.0295,\n",
    "#     0.132,  # 1st peak position\n",
    "#     0.268,  # 2nd peak position\n",
    "# ]\n",
    "\n",
    "\n",
    "\n",
    "qmin = 0.06\n",
    "qmax = 0.4\n",
    "\n",
    "# Get the radial profile from polardata — adjust based on actual method\n",
    "# This depends on your library; assuming it's something like:\n",
    "q_vals, intensities = polardata.plot_radial_peaks(qmin=0.02,qmax=0.4,return_plot_data = True)\n",
    "# Mask to get intensity values within desired q-range\n",
    "mask = (q_vals >= qmin) & (q_vals <= qmax)\n",
    "ymax = 1.1 * np.max(intensities[mask])\n",
    "plt.xlim(0.02, 0.4)  # If using matplotlib\n",
    "\n"
   ]
  },
  {
   "cell_type": "code",
   "execution_count": null,
   "id": "c654d299",
   "metadata": {},
   "outputs": [],
   "source": [
    "polardata.plot_radial_peaks(\n",
    "    # q_pixel_units = True,\n",
    "    figsize = (8,2),\n",
    "    qmin=0,\n",
    "    v_lines=[\n",
    "        # *peak_positions_inv_A\n",
    "        # *peak_positions_inv_A\n",
    "\n",
    "    ]\n",
    "\n",
    ")\n",
    "plt.ylim(0, ymax)  # If using matplotlib\n",
    "plt.xlim(0.024, 0.4)  # If using matplotlib\n",
    "\n"
   ]
  },
  {
   "cell_type": "code",
   "execution_count": null,
   "id": "027e6daa",
   "metadata": {},
   "outputs": [],
   "source": [
    " # This is a 1D histogram of the detected peaks, before refinement\n",
    "\n",
    "# peak_positions_inv_A = [\n",
    "#     0.0295,\n",
    "#     0.132,  # 1st peak position\n",
    "#     0.268,  # 2nd peak position\n",
    "# ]\n",
    "\n",
    "peak_positions_inv_A = [\n",
    "    (peak_ranges[i] + peak_ranges[i + 1]) / 2\n",
    "    for i in range(0, len(peak_ranges), 2)\n",
    "]\n",
    "lines=[peak_positions_inv_A[0]-0.003,peak_positions_inv_A[1]-0.001,peak_positions_inv_A[2]-0.005]\n",
    "\n",
    "polardata.plot_radial_peaks(\n",
    "    # q_pixel_units = True,\n",
    "    figsize = (8,2),\n",
    "    qmin=0,    \n",
    "    v_lines=[\n",
    "        *lines#*peak_positions_inv_A,\n",
    "        # *peak_positions_inv_A\n",
    "\n",
    "    ]\n",
    "\n",
    ")\n",
    "plt.ylim(0, 2000)  # If using matplotlib\n"
   ]
  },
  {
   "cell_type": "code",
   "execution_count": null,
   "id": "fad7ff4f",
   "metadata": {},
   "outputs": [],
   "source": [
    "peak_positions_A = np.divide(1, lines)\n",
    "peak_positions_A"
   ]
  },
  {
   "cell_type": "code",
   "execution_count": null,
   "id": "0efa5ae6",
   "metadata": {},
   "outputs": [],
   "source": [
    "# peak_positions_A = np.divide(1, peak_positions_inv_A)\n",
    "# peak_positions_A"
   ]
  },
  {
   "cell_type": "markdown",
   "id": "da080f89",
   "metadata": {},
   "source": [
    "# Remove Ice "
   ]
  },
  {
   "cell_type": "markdown",
   "id": "ce4b47ea",
   "metadata": {},
   "source": []
  },
  {
   "cell_type": "code",
   "execution_count": null,
   "id": "8341d15f",
   "metadata": {},
   "outputs": [],
   "source": [
    "peaks_backup = polardata.peaks.copy()"
   ]
  },
  {
   "cell_type": "code",
   "execution_count": null,
   "id": "1f69409d",
   "metadata": {},
   "outputs": [],
   "source": [
    "# Remove ice peaks\n",
    "# Do by removing peaks above a certain intensity threshold\n",
    "\n",
    "for i in range(polardata.peaks.shape[0]):\n",
    "    for j in range(polardata.peaks.shape[1]):\n",
    "        if len(polardata.peaks[i, j][:]['intensity']) > 0:\n",
    "            mask_peaks = polardata.peaks[i, j][:]['intensity'] > 2\n",
    "            print(mask)\n",
    "            polardata.peaks[i, j].remove(mask_peaks)\n",
    "        # if len(polardata.peaks[i, j][:]['intensity']) > 0:\n",
    "        #     print(np.max(polardata.peaks[i, j][:]['intensity']))\n"
   ]
  },
  {
   "cell_type": "markdown",
   "id": "387a1847",
   "metadata": {},
   "source": [
    "# End of Ice Removal"
   ]
  },
  {
   "cell_type": "code",
   "execution_count": null,
   "id": "62aca3c5",
   "metadata": {},
   "outputs": [],
   "source": [
    "# polardata.calculate_radial_statistics()"
   ]
  },
  {
   "cell_type": "code",
   "execution_count": null,
   "id": "28fd9771",
   "metadata": {},
   "outputs": [],
   "source": [
    "upsample_factor = 8 "
   ]
  },
  {
   "cell_type": "code",
   "execution_count": null,
   "id": "2dba370a",
   "metadata": {},
   "outputs": [],
   "source": [
    "orient_hist = polardata.make_orientation_histogram(\n",
    "    [\n",
    "        [peak_ranges[i], peak_ranges[i+1]] for i in range(0, len(peak_ranges), 2)\n",
    "    ],\n",
    "    normalize_intensity_image = True,\n",
    "    normalize_intensity_stack = False,\n",
    "    use_refined_peaks = False,\n",
    "    upsample_factor=upsample_factor,\n",
    "    orientation_offset_degrees=rotation_calibration\n",
    "\n",
    ")"
   ]
  },
  {
   "cell_type": "code",
   "execution_count": null,
   "id": "c73a9236",
   "metadata": {},
   "outputs": [],
   "source": [
    "# %%capture orient_hist_summary\n",
    "# Plot the total signals in each orientation matrix\n",
    "orient_hist_plot_summary_fig, orient_hist_plot_summary_ax = py4DSTEM.show(\n",
    "    [x.sum(axis=2) for x in orient_hist],\n",
    "    cmap='gray',\n",
    "    # axsize=(3,3),\n",
    "    ticks = False,\n",
    "    title=[f'orient_hist {x}' for x in range(len(orient_hist))],\n",
    "    returnfig=True\n",
    ")"
   ]
  },
  {
   "cell_type": "code",
   "execution_count": null,
   "id": "5a18e924",
   "metadata": {},
   "outputs": [],
   "source": [
    "# Generate flowline arrays\n",
    "orient_flowlines = py4DSTEM.process.diffraction.make_flowline_map(\n",
    "    orient_hist,\n",
    "    sep_xy = 4.0,\n",
    "    thresh_seed = 0.1,\n",
    "    thresh_grow = 0.05,\n",
    ")"
   ]
  },
  {
   "cell_type": "code",
   "execution_count": null,
   "id": "d71b1f81",
   "metadata": {},
   "outputs": [],
   "source": [
    "\n",
    "# orient_flowlines_1 = py4DSTEM.process.diffraction.make_flowline_map(\n",
    "#     orient_hist[0:1],\n",
    "#     sep_xy = 4.0,\n",
    "#     thresh_seed = 0.1,\n",
    "#     thresh_grow = 0.05,)\n",
    "# orient_flowlines_2 = py4DSTEM.process.diffraction.make_flowline_map(\n",
    "#     orient_hist[1:2],\n",
    "#     sep_xy = 4.0,\n",
    "#     thresh_seed = 0.1,\n",
    "#     thresh_grow = 0.05,\n",
    "#     )\n",
    "    \n",
    "orient_flowlines_3 = py4DSTEM.process.diffraction.make_flowline_map(\n",
    "    orient_hist[2:3],\n",
    "    sep_xy = 4.0,\n",
    "    thresh_seed = 0.1,\n",
    "    thresh_grow = 0.05,\n",
    "    )"
   ]
  },
  {
   "cell_type": "code",
   "execution_count": null,
   "metadata": {},
   "outputs": [],
   "source": [
    "orient_concat = np.concatenate(\n",
    "    [\n",
    "        orient_flowlines_1,\n",
    "        orient_flowlines_2,\n",
    "        orient_flowlines_3,\n",
    "    ],\n",
    "    axis=0\n",
    ")"
   ]
  },
  {
   "cell_type": "code",
   "execution_count": null,
   "id": "843cb82f",
   "metadata": {},
   "outputs": [],
   "source": [
    "int_range = [0,0.1]\n",
    "figsize = (6,6)\n",
    "\n",
    "im_flowlines = []\n",
    "titles = []\n",
    "for i in range(len(orient_flowlines)):\n",
    "    im = py4DSTEM.process.diffraction.make_flowline_rainbow_image(\n",
    "    orient_flowlines[i][None,:,:,:],\n",
    "    int_range=int_range,\n",
    "    greyscale=False,\n",
    "    white_background=False,\n",
    "    plot_images=False,\n",
    "    sum_radial_bins=True,\n",
    "    figsize = figsize,\n",
    "    )\n",
    "    im_flowlines.append(im[0])\n",
    "    titles.append(f\"flowline {i}\")\n",
    "\n",
    "py4DSTEM.show(\n",
    "    im_flowlines,\n",
    "    titles\n",
    ")"
   ]
  },
  {
   "cell_type": "code",
   "execution_count": null,
   "id": "34971940",
   "metadata": {},
   "outputs": [],
   "source": [
    "\n",
    "i = 0  # choose which flowline to display\n",
    "im = im_flowlines[i]\n",
    "\n",
    "# If grayscale or single-channel: use vmin/vmax to adjust brightness/contrast\n",
    "plt.figure(figsize=(6, 6))\n",
    "plt.imshow(im, cmap='viridis', vmin=0.0, vmax=0.0001)  # adjust vmin/vmax as needed\n",
    "# plt.title(f\"Flowline {i}\")\n",
    "plt.axis('off')\n",
    "plt.gca().set_aspect('equal')  # Enforce 1:1 aspect ratio\n",
    "plt.tight_layout()\n",
    "plt.show()\n"
   ]
  },
  {
   "cell_type": "code",
   "execution_count": null,
   "id": "b45c6578",
   "metadata": {},
   "outputs": [],
   "source": [
    "import matplotlib.pyplot as plt\n",
    "\n",
    "i = 1  # index of the flowline image to display\n",
    "im = im_flowlines[i]\n",
    "\n",
    "fig = plt.figure(figsize=(6, 6))  # Set exact figure size\n",
    "ax = fig.add_axes([0, 0, 1, 1])   # Full figure area (left, bottom, width, height)\n",
    "\n",
    "ax.imshow(im, cmap='viridis', vmin=-1, vmax=0.0000001)  # Adjust contrast as needed\n",
    "ax.set_aspect('equal')          # 1:1 aspect ratio\n",
    "ax.axis('off')                  # Remove axes and ticks\n",
    "\n",
    "plt.show()\n"
   ]
  },
  {
   "cell_type": "code",
   "execution_count": null,
   "id": "23c4048d",
   "metadata": {},
   "outputs": [],
   "source": [
    "i = 2  # index of the flowline image to display\n",
    "im = im_flowlines[i]\n",
    "\n",
    "fig = plt.figure(figsize=(6, 6))  # Set exact figure size\n",
    "ax = fig.add_axes([0, 0, 1, 1])   # Full figure area (left, bottom, width, height)\n",
    "\n",
    "ax.imshow(im, cmap='viridis', vmin=-0.1, vmax=0.001,)  # Adjust contrast as needed\n",
    "ax.set_aspect('equal')          # 1:1 aspect ratio\n",
    "ax.axis('off')                  # Remove axes and ticks\n",
    "\n",
    "plt.show()\n",
    "\n"
   ]
  },
  {
   "cell_type": "code",
   "execution_count": null,
   "id": "dd705498",
   "metadata": {},
   "outputs": [],
   "source": [
    "\n",
    "im = py4DSTEM.process.diffraction.make_flowline_rainbow_image(\n",
    "    orient_flowlines_3,\n",
    "    int_range=int_range,\n",
    "    greyscale=False,\n",
    "    white_background=False,\n",
    "    plot_images=True,\n",
    "    sum_radial_bins=True,\n",
    "    figsize = figsize,\n",
    ")\n",
    "\n"
   ]
  },
  {
   "cell_type": "code",
   "execution_count": null,
   "id": "b4036e17",
   "metadata": {},
   "outputs": [],
   "source": [
    "fig = plt.figure(figsize=(6, 6))  # Set exact figure size\n",
    "ax = fig.add_axes([0, 0, 1, 1])   # Full figure area (left, bottom, width, height)\n",
    "\n",
    "ax.imshow(im[0], cmap='viridis', vmin=-0.1, vmax=0.001,)  # Adjust contrast as needed\n",
    "ax.set_aspect('equal')          # 1:1 aspect ratio\n",
    "ax.axis('off')                  # Remove axes and ticks\n",
    "\n",
    "plt.show()"
   ]
  },
  {
   "cell_type": "markdown",
   "id": "9759026e",
   "metadata": {},
   "source": [
    "# Finer Orientation Mask "
   ]
  },
  {
   "cell_type": "code",
   "execution_count": null,
   "id": "b90d15e0",
   "metadata": {},
   "outputs": [],
   "source": [
    "# Generate flowline arrays\n",
    "orient_flowlines_fine = py4DSTEM.process.diffraction.make_flowline_map(\n",
    "    orient_hist,\n",
    "    sep_xy = 4.0,\n",
    "    thresh_seed = 0.01,\n",
    "    thresh_grow = 0.005,\n",
    ")"
   ]
  },
  {
   "cell_type": "code",
   "execution_count": null,
   "id": "46545cd6",
   "metadata": {},
   "outputs": [],
   "source": [
    "\n",
    "orient_flowlines_1_fine = py4DSTEM.process.diffraction.make_flowline_map(\n",
    "    orient_hist[0:1],\n",
    "    sep_xy = 4.0,\n",
    "    thresh_seed = 0.01,\n",
    "    thresh_grow = 0.005,)\n",
    "orient_flowlines_2_fine = py4DSTEM.process.diffraction.make_flowline_map(\n",
    "    orient_hist[1:2],\n",
    "    sep_xy = 4.0,\n",
    "    thresh_seed = 0.01,\n",
    "    thresh_grow = 0.005,)\n",
    "    \n",
    "orient_flowlines_3_fine = py4DSTEM.process.diffraction.make_flowline_map(\n",
    "    orient_hist[2:3],\n",
    "    sep_xy = 4.0,\n",
    "    thresh_seed = 0.01,\n",
    "    thresh_grow = 0.005,\n",
    "    )"
   ]
  },
  {
   "cell_type": "code",
   "execution_count": null,
   "id": "a14da3d9",
   "metadata": {},
   "outputs": [],
   "source": [
    "orient_concat = np.concatenate(\n",
    "    [\n",
    "        orient_flowlines_1_fine,\n",
    "        orient_flowlines_2_fine,\n",
    "        orient_flowlines_3_fine,\n",
    "    ],\n",
    "    axis=0\n",
    ")"
   ]
  },
  {
   "cell_type": "code",
   "execution_count": null,
   "id": "9a92f045",
   "metadata": {},
   "outputs": [],
   "source": [
    "int_range = [0,0.1]\n",
    "figsize = (6,6)\n",
    "\n",
    "im_flowlines_fine = []\n",
    "titles = []\n",
    "for i in range(len(orient_flowlines_fine)):\n",
    "    im = py4DSTEM.process.diffraction.make_flowline_rainbow_image(\n",
    "    orient_flowlines_fine[i][None,:,:,:],\n",
    "    int_range=int_range,\n",
    "    greyscale=False,\n",
    "    white_background=False,\n",
    "    plot_images=False,\n",
    "    sum_radial_bins=True,\n",
    "    figsize = figsize,\n",
    "    )\n",
    "    im_flowlines_fine.append(im[0])\n",
    "    titles.append(f\"flowline {i}\")\n",
    "\n",
    "py4DSTEM.show(\n",
    "    im_flowlines,\n",
    "    titles\n",
    ")"
   ]
  },
  {
   "cell_type": "code",
   "execution_count": null,
   "id": "92b5edab",
   "metadata": {},
   "outputs": [],
   "source": [
    "\n",
    "i = 0  # choose which flowline to display\n",
    "im = im_flowlines_fine[i]\n",
    "\n",
    "# If grayscale or single-channel: use vmin/vmax to adjust brightness/contrast\n",
    "plt.figure(figsize=(6, 6))\n",
    "plt.imshow(im, cmap='viridis', vmin=0.0, vmax=0.05)  # adjust vmin/vmax as needed\n",
    "# plt.title(f\"Flowline {i}\")\n",
    "plt.axis('off')\n",
    "plt.gca().set_aspect('equal')  # Enforce 1:1 aspect ratio\n",
    "plt.tight_layout()\n",
    "plt.show()\n"
   ]
  },
  {
   "cell_type": "code",
   "execution_count": null,
   "id": "10314003",
   "metadata": {},
   "outputs": [],
   "source": [
    "\n",
    "i = 1  # choose which flowline to display\n",
    "im = im_flowlines_fine[i]\n",
    "\n",
    "# If grayscale or single-channel: use vmin/vmax to adjust brightness/contrast\n",
    "plt.figure(figsize=(6, 6))\n",
    "plt.imshow(im, cmap='viridis', vmin=0.0, vmax=0.01)  # adjust vmin/vmax as needed\n",
    "# plt.title(f\"Flowline {i}\")\n",
    "plt.axis('off')\n",
    "plt.gca().set_aspect('equal')  # Enforce 1:1 aspect ratio\n",
    "plt.tight_layout()\n",
    "plt.show()\n"
   ]
  },
  {
   "cell_type": "code",
   "execution_count": null,
   "metadata": {},
   "outputs": [],
   "source": [
    "\n",
    "i = 2  # choose which flowline to display\n",
    "im = im_flowlines_fine[i]\n",
    "\n",
    "# If grayscale or single-channel: use vmin/vmax to adjust brightness/contrast\n",
    "plt.figure(figsize=(6, 6))\n",
    "plt.imshow(im, cmap='viridis', vmin=0.0, vmax=0.0001)  # adjust vmin/vmax as needed\n",
    "# plt.title(f\"Flowline {i}\")\n",
    "plt.axis('off')\n",
    "plt.gca().set_aspect('equal')  # Enforce 1:1 aspect ratio\n",
    "plt.tight_layout()\n",
    "plt.show()\n"
   ]
  },
  {
   "cell_type": "markdown",
   "id": "28100efc",
   "metadata": {},
   "source": [
    "# End of Finer Orientatio mask '\n"
   ]
  },
  {
   "cell_type": "code",
   "execution_count": null,
   "id": "b60b23e6",
   "metadata": {},
   "outputs": [],
   "source": [
    "import matplotlib.pyplot as plt\n",
    "from matplotlib.patches import Circle\n",
    "\n",
    "mask_centers =[\n",
    "    (250,900),\n",
    "    (350,930),\n",
    "    (430,950),\n",
    "    (600,950),\n",
    "    ] \n",
    "mask_radius=10\n",
    "i = 0  # index of the flowline image to display\n",
    "im = im_flowlines_fine[i]\n",
    "\n",
    "fig = plt.figure(figsize=(6, 6))  # Set exact figure size\n",
    "ax = fig.add_axes([0, 0, 1, 1])   # Full figure area (left, bottom, width, height)\n",
    "\n",
    "ax.imshow(im, cmap='viridis', vmin=0.0, vmax=0.001)  # Adjust contrast as needed\n",
    "ax.set_aspect('equal')          # 1:1 aspect ratio\n",
    "ax.axis('off')                  # Remove axes and ticks\n",
    "# ax.add_patch(circle)\n",
    "for (x, y) in mask_centers:\n",
    "    circle = Circle(\n",
    "        (x, y),\n",
    "        radius=mask_radius,\n",
    "        facecolor='white',\n",
    "        edgecolor='red',\n",
    "        linewidth=1.5,\n",
    "        alpha=0.2\n",
    "    )\n",
    "    ax.add_patch(circle)\n",
    "plt.show()\n"
   ]
  },
  {
   "cell_type": "code",
   "execution_count": null,
   "id": "6b4cf0c5",
   "metadata": {},
   "outputs": [],
   "source": [
    "upsample_factor"
   ]
  },
  {
   "cell_type": "markdown",
   "id": "757399e5",
   "metadata": {},
   "source": [
    "# point 0"
   ]
  },
  {
   "cell_type": "markdown",
   "id": "5f9c9552",
   "metadata": {},
   "source": []
  },
  {
   "cell_type": "code",
   "execution_count": null,
   "id": "9c38a460",
   "metadata": {},
   "outputs": [],
   "source": [
    "n=0 # first point \n",
    "mask_center = (mask_centers[n][1]/upsample_factor,mask_centers[n][0]/upsample_factor)\n",
    "# print(mask_center)\n",
    "mask_radius = 2"
   ]
  },
  {
   "cell_type": "code",
   "execution_count": null,
   "id": "2058f9bd",
   "metadata": {},
   "outputs": [],
   "source": [
    "img = dataset.tree('dark_field')\n",
    "# print(\"Shape of image:\", img.shape)"
   ]
  },
  {
   "cell_type": "code",
   "execution_count": null,
   "id": "11f9ed50",
   "metadata": {},
   "outputs": [],
   "source": [
    "py4DSTEM.visualize.show(\n",
    "    dataset.tree('dark_field'),\n",
    "    circle={\n",
    "        'center': mask_center,  # (row, col) order = (y, x)\n",
    "        'R': mask_radius,\n",
    "        'alpha': 0.3,\n",
    "        'fill': True\n",
    "    },\n",
    "    ticks=False,\n",
    ")\n",
    "\n"
   ]
  },
  {
   "cell_type": "code",
   "execution_count": null,
   "id": "68dacef4",
   "metadata": {},
   "outputs": [],
   "source": [
    "ryy,rxx = np.meshgrid(\n",
    "    np.arange(dataset.R_Ny),\n",
    "    np.arange(dataset.R_Nx),\n",
    ")\n",
    "rrr = np.hypot( rxx-mask_center[0] , ryy-mask_center[1] )\n",
    "mask = rrr < mask_radius\n",
    "\n",
    "# show\n",
    "\n",
    "show(\n",
    "    dataset.tree('dark_field'),\n",
    "    mask = mask,\n",
    "    vmin=0,\n",
    "    vmax=0.1,\n",
    "    scaling='log'\n",
    ")"
   ]
  },
  {
   "cell_type": "code",
   "execution_count": null,
   "id": "e2071d64",
   "metadata": {},
   "outputs": [],
   "source": [
    "selected_area_diffraction_01 = dataset.get_virtual_diffraction(\n",
    "    method = 'mean',\n",
    "    mask = mask,\n",
    "    name = 'selected_area_diffraction_01'\n",
    ")\n",
    "\n",
    "# show\n",
    "py4DSTEM.visualize.show(\n",
    "    selected_area_diffraction_01,vmax=0.9975,ticks=False, \n",
    ")\n"
   ]
  },
  {
   "cell_type": "markdown",
   "id": "0d6f583e",
   "metadata": {},
   "source": [
    "# point 1"
   ]
  },
  {
   "cell_type": "code",
   "execution_count": null,
   "id": "cec075ef",
   "metadata": {},
   "outputs": [],
   "source": [
    "n=1 # first point \n",
    "mask_center = (mask_centers[n][1]/upsample_factor,mask_centers[n][0]/upsample_factor)\n",
    "# print(mask_center)\n",
    "mask_radius = 2\n",
    "img = dataset.tree('dark_field')\n",
    "# print(\"Shape of image:\", img.shape)\n",
    "py4DSTEM.visualize.show(\n",
    "    dataset.tree('dark_field'),\n",
    "    circle={\n",
    "        'center': mask_center,  # (row, col) order = (y, x)\n",
    "        'R': mask_radius,\n",
    "        'alpha': 0.3,\n",
    "        'fill': True\n",
    "    },\n",
    "    ticks=False,\n",
    ")\n",
    "\n",
    "\n",
    "ryy,rxx = np.meshgrid(\n",
    "    np.arange(dataset.R_Ny),\n",
    "    np.arange(dataset.R_Nx),\n",
    ")\n",
    "rrr = np.hypot( rxx-mask_center[0] , ryy-mask_center[1] )\n",
    "mask = rrr < mask_radius\n",
    "\n",
    "# show\n",
    "\n",
    "show(\n",
    "    dataset.tree('dark_field'),\n",
    "    mask = mask,\n",
    "    vmin=0,\n",
    "    vmax=0.1,\n",
    "    scaling='log'\n",
    ");\n",
    "selected_area_diffraction_01 = dataset.get_virtual_diffraction(\n",
    "    method = 'mean',\n",
    "    mask = mask,\n",
    "    name = 'selected_area_diffraction_01'\n",
    ");\n",
    "\n",
    "# show\n",
    "py4DSTEM.visualize.show(\n",
    "    selected_area_diffraction_01,vmax=0.9975,ticks=False, \n",
    ")\n"
   ]
  },
  {
   "cell_type": "markdown",
   "id": "1484b6d7",
   "metadata": {},
   "source": [
    "# point 2"
   ]
  },
  {
   "cell_type": "code",
   "execution_count": null,
   "id": "0d93d093",
   "metadata": {},
   "outputs": [],
   "source": [
    "n=2 # first point \n",
    "mask_center = (mask_centers[n][1]/upsample_factor,mask_centers[n][0]/upsample_factor)\n",
    "# print(mask_center)\n",
    "mask_radius = 2\n",
    "img = dataset.tree('dark_field')\n",
    "# print(\"Shape of image:\", img.shape)\n",
    "py4DSTEM.visualize.show(\n",
    "    dataset.tree('dark_field'),\n",
    "    circle={\n",
    "        'center': mask_center,  # (row, col) order = (y, x)\n",
    "        'R': mask_radius,\n",
    "        'alpha': 0.3,\n",
    "        'fill': True\n",
    "    },\n",
    "    ticks=False,\n",
    ")\n",
    "\n",
    "\n",
    "ryy,rxx = np.meshgrid(\n",
    "    np.arange(dataset.R_Ny),\n",
    "    np.arange(dataset.R_Nx),\n",
    ")\n",
    "rrr = np.hypot( rxx-mask_center[0] , ryy-mask_center[1] )\n",
    "mask = rrr < mask_radius\n",
    "\n",
    "# show\n",
    "\n",
    "show(\n",
    "    dataset.tree('dark_field'),\n",
    "    mask = mask,\n",
    "    vmin=0,\n",
    "    vmax=0.1,\n",
    "    scaling='log'\n",
    ")\n",
    "selected_area_diffraction_01 = dataset.get_virtual_diffraction(\n",
    "    method = 'mean',\n",
    "    mask = mask,\n",
    "    name = 'selected_area_diffraction_01'\n",
    ")\n",
    "\n",
    "# show\n",
    "py4DSTEM.visualize.show(\n",
    "    selected_area_diffraction_01,vmax=0.9975,ticks=False, \n",
    ")\n"
   ]
  },
  {
   "cell_type": "markdown",
   "id": "a3b94534",
   "metadata": {},
   "source": [
    "# correlation "
   ]
  },
  {
   "cell_type": "code",
   "execution_count": null,
   "id": "adba00b3",
   "metadata": {},
   "outputs": [],
   "source": [
    "# orient_corr_50 = py4DSTEM.process.diffraction.orientation_correlation(\n",
    "#     orient_hist_upsample_1,\n",
    "#     radius_max=50, \n",
    "# )"
   ]
  },
  {
   "cell_type": "code",
   "execution_count": null,
   "id": "74d3e388",
   "metadata": {},
   "outputs": [],
   "source": [
    "#yael\n",
    "upsample_factor_corr=8\n",
    "step_size=15\n",
    "rotation_calibration= -6.8\n",
    "\n",
    "\n",
    "\n",
    "orient_hist_corr = polardata.make_orientation_histogram(\n",
    "    [\n",
    "        [peak_ranges[i], peak_ranges[i+1]] for i in range(0, len(peak_ranges), 2)\n",
    "    ],\n",
    "    normalize_intensity_image = True,\n",
    "    normalize_intensity_stack = False,\n",
    "    use_refined_peaks = False,\n",
    "    theta_step_deg=1,\n",
    "    upsample_factor=upsample_factor_corr,\n",
    "    orientation_offset_degrees=rotation_calibration\n",
    ")\n"
   ]
  },
  {
   "cell_type": "code",
   "execution_count": null,
   "id": "1476b17f",
   "metadata": {},
   "outputs": [],
   "source": [
    "orient_corr = py4DSTEM.process.diffraction.orientation_correlation(\n",
    "    orient_hist_corr,\n",
    "    # radius_max=50,\n",
    ")\n",
    "\n"
   ]
  },
  {
   "cell_type": "code",
   "execution_count": null,
   "id": "a0ce60c4",
   "metadata": {},
   "outputs": [],
   "source": [
    "\n",
    "fig,ax = py4DSTEM.process.diffraction.plot_orientation_correlation(\n",
    "    orient_corr,\n",
    "    calculate_coefs=True,\n",
    "    prob_range = [0.1,10.0],\n",
    "    pixel_size = int(step_size) /upsample_factor_corr,\n",
    "    pixel_units='nm',\n",
    "    returnfig=True,fontsize=18,\n",
    ")"
   ]
  },
  {
   "cell_type": "code",
   "execution_count": null,
   "id": "e4f8cb1a",
   "metadata": {},
   "outputs": [],
   "source": []
  },
  {
   "cell_type": "code",
   "execution_count": null,
   "id": "7d6c2411",
   "metadata": {},
   "outputs": [],
   "source": []
  },
  {
   "cell_type": "code",
   "execution_count": null,
   "id": "08d178a3",
   "metadata": {},
   "outputs": [],
   "source": []
  },
  {
   "cell_type": "code",
   "execution_count": null,
   "id": "23b03920",
   "metadata": {},
   "outputs": [],
   "source": []
  },
  {
   "cell_type": "code",
   "execution_count": null,
   "id": "eb4a9a48",
   "metadata": {},
   "outputs": [],
   "source": []
  },
  {
   "cell_type": "code",
   "execution_count": null,
   "id": "3c94ffea",
   "metadata": {},
   "outputs": [],
   "source": []
  },
  {
   "cell_type": "code",
   "execution_count": null,
   "id": "f85f48d2",
   "metadata": {},
   "outputs": [],
   "source": []
  },
  {
   "cell_type": "code",
   "execution_count": null,
   "id": "07a63cb0",
   "metadata": {},
   "outputs": [],
   "source": []
  },
  {
   "cell_type": "code",
   "execution_count": null,
   "id": "deeabd8e",
   "metadata": {},
   "outputs": [],
   "source": []
  },
  {
   "cell_type": "code",
   "execution_count": null,
   "id": "6ae38b03",
   "metadata": {},
   "outputs": [],
   "source": []
  },
  {
   "cell_type": "code",
   "execution_count": null,
   "id": "8ca8c20f",
   "metadata": {},
   "outputs": [],
   "source": []
  },
  {
   "cell_type": "code",
   "execution_count": null,
   "id": "d5e906db",
   "metadata": {},
   "outputs": [],
   "source": []
  },
  {
   "cell_type": "code",
   "execution_count": null,
   "id": "c200656e",
   "metadata": {},
   "outputs": [],
   "source": []
  },
  {
   "cell_type": "code",
   "execution_count": null,
   "id": "02a2a0a8",
   "metadata": {},
   "outputs": [],
   "source": []
  },
  {
   "cell_type": "code",
   "execution_count": null,
   "id": "8454785c",
   "metadata": {},
   "outputs": [],
   "source": []
  },
  {
   "cell_type": "code",
   "execution_count": null,
   "id": "cc517e5e",
   "metadata": {},
   "outputs": [],
   "source": []
  },
  {
   "cell_type": "code",
   "execution_count": null,
   "id": "c056b7a1",
   "metadata": {},
   "outputs": [],
   "source": []
  },
  {
   "cell_type": "code",
   "execution_count": null,
   "id": "601edda2",
   "metadata": {},
   "outputs": [],
   "source": []
  },
  {
   "cell_type": "code",
   "execution_count": null,
   "id": "f584bf4c",
   "metadata": {},
   "outputs": [],
   "source": []
  },
  {
   "cell_type": "code",
   "execution_count": null,
   "id": "5c8f6063",
   "metadata": {},
   "outputs": [],
   "source": []
  },
  {
   "cell_type": "code",
   "execution_count": null,
   "id": "719419fe",
   "metadata": {},
   "outputs": [],
   "source": []
  },
  {
   "cell_type": "code",
   "execution_count": null,
   "id": "7fbf150e",
   "metadata": {},
   "outputs": [],
   "source": []
  },
  {
   "cell_type": "code",
   "execution_count": null,
   "id": "c61d00ad",
   "metadata": {},
   "outputs": [],
   "source": []
  },
  {
   "cell_type": "code",
   "execution_count": null,
   "id": "62b7ddd1",
   "metadata": {},
   "outputs": [],
   "source": []
  },
  {
   "cell_type": "code",
   "execution_count": null,
   "id": "1aa867a5",
   "metadata": {},
   "outputs": [],
   "source": []
  },
  {
   "cell_type": "code",
   "execution_count": null,
   "id": "bf4a71de",
   "metadata": {},
   "outputs": [],
   "source": []
  },
  {
   "cell_type": "code",
   "execution_count": null,
   "id": "cb39c8ec",
   "metadata": {},
   "outputs": [],
   "source": []
  },
  {
   "cell_type": "code",
   "execution_count": null,
   "id": "4e30801f",
   "metadata": {},
   "outputs": [],
   "source": []
  },
  {
   "cell_type": "code",
   "execution_count": null,
   "id": "c7cd3106",
   "metadata": {},
   "outputs": [],
   "source": []
  },
  {
   "cell_type": "code",
   "execution_count": null,
   "id": "307f0f00",
   "metadata": {},
   "outputs": [],
   "source": []
  },
  {
   "cell_type": "code",
   "execution_count": null,
   "id": "510e009c",
   "metadata": {},
   "outputs": [],
   "source": []
  },
  {
   "cell_type": "code",
   "execution_count": null,
   "id": "8985f7dc",
   "metadata": {},
   "outputs": [],
   "source": []
  },
  {
   "cell_type": "code",
   "execution_count": null,
   "id": "2a6c4e7a",
   "metadata": {},
   "outputs": [],
   "source": []
  },
  {
   "cell_type": "code",
   "execution_count": null,
   "id": "714d4d59",
   "metadata": {},
   "outputs": [],
   "source": []
  },
  {
   "cell_type": "code",
   "execution_count": null,
   "id": "e9406f95",
   "metadata": {},
   "outputs": [],
   "source": []
  },
  {
   "cell_type": "code",
   "execution_count": null,
   "id": "c0255251",
   "metadata": {},
   "outputs": [],
   "source": []
  },
  {
   "cell_type": "code",
   "execution_count": null,
   "id": "d249e6a0",
   "metadata": {},
   "outputs": [],
   "source": []
  },
  {
   "cell_type": "code",
   "execution_count": null,
   "id": "0df2feb5",
   "metadata": {},
   "outputs": [],
   "source": []
  },
  {
   "cell_type": "code",
   "execution_count": null,
   "id": "54a5f807",
   "metadata": {},
   "outputs": [],
   "source": []
  },
  {
   "cell_type": "code",
   "execution_count": null,
   "id": "2a135a79",
   "metadata": {},
   "outputs": [],
   "source": []
  },
  {
   "cell_type": "code",
   "execution_count": null,
   "id": "e47e4ec6",
   "metadata": {},
   "outputs": [],
   "source": []
  },
  {
   "cell_type": "code",
   "execution_count": null,
   "id": "09239e7a",
   "metadata": {},
   "outputs": [],
   "source": []
  },
  {
   "cell_type": "code",
   "execution_count": null,
   "id": "dd6651a3",
   "metadata": {},
   "outputs": [],
   "source": []
  },
  {
   "cell_type": "code",
   "execution_count": null,
   "id": "94603875",
   "metadata": {},
   "outputs": [],
   "source": []
  },
  {
   "cell_type": "code",
   "execution_count": null,
   "id": "2b0c6a7b",
   "metadata": {},
   "outputs": [],
   "source": []
  },
  {
   "cell_type": "code",
   "execution_count": null,
   "id": "c0e6e01c",
   "metadata": {},
   "outputs": [],
   "source": []
  },
  {
   "cell_type": "code",
   "execution_count": null,
   "id": "271b92fd",
   "metadata": {},
   "outputs": [],
   "source": []
  },
  {
   "cell_type": "code",
   "execution_count": null,
   "id": "e0eff556",
   "metadata": {},
   "outputs": [],
   "source": []
  },
  {
   "cell_type": "code",
   "execution_count": null,
   "id": "bc807904",
   "metadata": {},
   "outputs": [],
   "source": []
  },
  {
   "cell_type": "code",
   "execution_count": null,
   "id": "7501ba58",
   "metadata": {},
   "outputs": [],
   "source": []
  },
  {
   "cell_type": "code",
   "execution_count": null,
   "id": "1f34eb78",
   "metadata": {},
   "outputs": [],
   "source": []
  },
  {
   "cell_type": "code",
   "execution_count": null,
   "id": "2f520376",
   "metadata": {},
   "outputs": [],
   "source": []
  },
  {
   "cell_type": "code",
   "execution_count": null,
   "id": "b0ed171a",
   "metadata": {},
   "outputs": [],
   "source": []
  },
  {
   "cell_type": "code",
   "execution_count": null,
   "id": "c978266f",
   "metadata": {},
   "outputs": [],
   "source": []
  },
  {
   "cell_type": "code",
   "execution_count": null,
   "id": "fb4919de",
   "metadata": {},
   "outputs": [],
   "source": []
  },
  {
   "cell_type": "code",
   "execution_count": null,
   "id": "2fb8b66c",
   "metadata": {},
   "outputs": [],
   "source": []
  },
  {
   "cell_type": "code",
   "execution_count": null,
   "id": "d0f779e1",
   "metadata": {},
   "outputs": [],
   "source": []
  },
  {
   "cell_type": "code",
   "execution_count": null,
   "id": "475553ca",
   "metadata": {},
   "outputs": [],
   "source": []
  },
  {
   "cell_type": "code",
   "execution_count": null,
   "id": "9ffd4678",
   "metadata": {},
   "outputs": [],
   "source": []
  },
  {
   "cell_type": "code",
   "execution_count": null,
   "id": "1ff6db72",
   "metadata": {},
   "outputs": [],
   "source": []
  },
  {
   "cell_type": "code",
   "execution_count": null,
   "id": "5dee8eca",
   "metadata": {},
   "outputs": [],
   "source": []
  },
  {
   "cell_type": "code",
   "execution_count": null,
   "id": "901abe36",
   "metadata": {},
   "outputs": [],
   "source": []
  },
  {
   "cell_type": "code",
   "execution_count": null,
   "id": "8924b75e",
   "metadata": {},
   "outputs": [],
   "source": []
  },
  {
   "cell_type": "code",
   "execution_count": null,
   "id": "2fdbbf21",
   "metadata": {},
   "outputs": [],
   "source": []
  },
  {
   "cell_type": "code",
   "execution_count": null,
   "id": "b6365831",
   "metadata": {},
   "outputs": [],
   "source": []
  },
  {
   "cell_type": "code",
   "execution_count": null,
   "id": "c20a1fba",
   "metadata": {},
   "outputs": [],
   "source": []
  },
  {
   "cell_type": "code",
   "execution_count": null,
   "id": "795ef9ff",
   "metadata": {},
   "outputs": [],
   "source": []
  },
  {
   "cell_type": "code",
   "execution_count": null,
   "id": "2e3913bc",
   "metadata": {},
   "outputs": [],
   "source": []
  },
  {
   "cell_type": "code",
   "execution_count": null,
   "id": "0618e5ea",
   "metadata": {},
   "outputs": [],
   "source": []
  },
  {
   "cell_type": "code",
   "execution_count": null,
   "id": "2f8a515e",
   "metadata": {},
   "outputs": [],
   "source": []
  },
  {
   "cell_type": "code",
   "execution_count": null,
   "id": "5ce2b3ee",
   "metadata": {},
   "outputs": [],
   "source": []
  },
  {
   "cell_type": "code",
   "execution_count": null,
   "id": "dd6cf40a",
   "metadata": {},
   "outputs": [],
   "source": []
  },
  {
   "cell_type": "code",
   "execution_count": null,
   "id": "13a2ced6",
   "metadata": {},
   "outputs": [],
   "source": []
  },
  {
   "cell_type": "code",
   "execution_count": null,
   "id": "f5f1b1b9",
   "metadata": {},
   "outputs": [],
   "source": []
  },
  {
   "cell_type": "code",
   "execution_count": null,
   "id": "94d46431",
   "metadata": {},
   "outputs": [],
   "source": []
  },
  {
   "cell_type": "code",
   "execution_count": null,
   "id": "e265aa53",
   "metadata": {},
   "outputs": [],
   "source": []
  },
  {
   "cell_type": "code",
   "execution_count": null,
   "id": "277a0903",
   "metadata": {},
   "outputs": [],
   "source": []
  },
  {
   "cell_type": "code",
   "execution_count": null,
   "id": "c839fcce",
   "metadata": {},
   "outputs": [],
   "source": []
  },
  {
   "cell_type": "code",
   "execution_count": null,
   "id": "40aa2a4e",
   "metadata": {},
   "outputs": [],
   "source": []
  },
  {
   "cell_type": "code",
   "execution_count": null,
   "id": "f8306824",
   "metadata": {},
   "outputs": [],
   "source": []
  },
  {
   "cell_type": "code",
   "execution_count": null,
   "id": "0abc0c1c",
   "metadata": {},
   "outputs": [],
   "source": []
  },
  {
   "cell_type": "code",
   "execution_count": null,
   "id": "e22761d6",
   "metadata": {},
   "outputs": [],
   "source": []
  },
  {
   "cell_type": "code",
   "execution_count": null,
   "id": "79c41b43",
   "metadata": {},
   "outputs": [],
   "source": []
  },
  {
   "cell_type": "code",
   "execution_count": null,
   "id": "b92ce6a1",
   "metadata": {},
   "outputs": [],
   "source": []
  },
  {
   "cell_type": "code",
   "execution_count": null,
   "id": "2170332d",
   "metadata": {},
   "outputs": [],
   "source": []
  },
  {
   "cell_type": "code",
   "execution_count": null,
   "id": "35a50d17",
   "metadata": {},
   "outputs": [],
   "source": []
  },
  {
   "cell_type": "code",
   "execution_count": null,
   "id": "00d9461d",
   "metadata": {},
   "outputs": [],
   "source": []
  },
  {
   "cell_type": "code",
   "execution_count": null,
   "id": "b1c1131d",
   "metadata": {},
   "outputs": [],
   "source": []
  },
  {
   "cell_type": "code",
   "execution_count": null,
   "id": "d4b36eff",
   "metadata": {},
   "outputs": [],
   "source": []
  },
  {
   "cell_type": "code",
   "execution_count": null,
   "id": "ada9406c",
   "metadata": {},
   "outputs": [],
   "source": []
  },
  {
   "cell_type": "code",
   "execution_count": null,
   "id": "30ad5297",
   "metadata": {},
   "outputs": [],
   "source": []
  },
  {
   "cell_type": "code",
   "execution_count": null,
   "id": "8167fddf",
   "metadata": {},
   "outputs": [],
   "source": []
  },
  {
   "cell_type": "code",
   "execution_count": null,
   "id": "474a2c5d",
   "metadata": {},
   "outputs": [],
   "source": []
  },
  {
   "cell_type": "code",
   "execution_count": null,
   "id": "3e91bd1a",
   "metadata": {},
   "outputs": [],
   "source": []
  },
  {
   "cell_type": "code",
   "execution_count": null,
   "id": "fac2f534",
   "metadata": {},
   "outputs": [],
   "source": []
  },
  {
   "cell_type": "code",
   "execution_count": null,
   "id": "6309bdb4",
   "metadata": {},
   "outputs": [],
   "source": []
  },
  {
   "cell_type": "code",
   "execution_count": null,
   "id": "47188b5c",
   "metadata": {},
   "outputs": [],
   "source": []
  },
  {
   "cell_type": "code",
   "execution_count": null,
   "id": "b3979746",
   "metadata": {},
   "outputs": [],
   "source": []
  },
  {
   "cell_type": "code",
   "execution_count": null,
   "id": "6dd4a4df",
   "metadata": {},
   "outputs": [],
   "source": []
  },
  {
   "cell_type": "code",
   "execution_count": null,
   "id": "508c3550",
   "metadata": {},
   "outputs": [],
   "source": []
  },
  {
   "cell_type": "code",
   "execution_count": null,
   "id": "a624d781",
   "metadata": {},
   "outputs": [],
   "source": []
  },
  {
   "cell_type": "code",
   "execution_count": null,
   "id": "cbe08e33",
   "metadata": {},
   "outputs": [],
   "source": []
  },
  {
   "cell_type": "code",
   "execution_count": null,
   "id": "ba20e8d0",
   "metadata": {},
   "outputs": [],
   "source": []
  },
  {
   "cell_type": "code",
   "execution_count": null,
   "id": "79e85ff7",
   "metadata": {},
   "outputs": [],
   "source": []
  },
  {
   "cell_type": "code",
   "execution_count": null,
   "id": "f0a4dd46",
   "metadata": {},
   "outputs": [],
   "source": []
  },
  {
   "cell_type": "code",
   "execution_count": null,
   "id": "fd64563f",
   "metadata": {},
   "outputs": [],
   "source": []
  },
  {
   "cell_type": "code",
   "execution_count": null,
   "id": "9ea4f8f8",
   "metadata": {},
   "outputs": [],
   "source": []
  },
  {
   "cell_type": "code",
   "execution_count": null,
   "id": "c7864eb7",
   "metadata": {},
   "outputs": [],
   "source": []
  },
  {
   "cell_type": "code",
   "execution_count": null,
   "id": "9aa2fc6f",
   "metadata": {},
   "outputs": [],
   "source": []
  },
  {
   "cell_type": "code",
   "execution_count": null,
   "id": "12e14822",
   "metadata": {},
   "outputs": [],
   "source": []
  },
  {
   "cell_type": "code",
   "execution_count": null,
   "id": "950a7b86",
   "metadata": {},
   "outputs": [],
   "source": []
  },
  {
   "cell_type": "code",
   "execution_count": null,
   "id": "8b0f92d7",
   "metadata": {},
   "outputs": [],
   "source": []
  },
  {
   "cell_type": "code",
   "execution_count": null,
   "id": "a00549aa",
   "metadata": {},
   "outputs": [],
   "source": []
  },
  {
   "cell_type": "code",
   "execution_count": null,
   "id": "0d2323ed",
   "metadata": {},
   "outputs": [],
   "source": []
  },
  {
   "cell_type": "code",
   "execution_count": null,
   "id": "048e4a2e",
   "metadata": {},
   "outputs": [],
   "source": []
  },
  {
   "cell_type": "code",
   "execution_count": null,
   "id": "3ffbcac3",
   "metadata": {},
   "outputs": [],
   "source": []
  },
  {
   "cell_type": "code",
   "execution_count": null,
   "id": "64764a08",
   "metadata": {},
   "outputs": [],
   "source": []
  },
  {
   "cell_type": "code",
   "execution_count": null,
   "id": "18db9622",
   "metadata": {},
   "outputs": [],
   "source": []
  },
  {
   "cell_type": "code",
   "execution_count": null,
   "id": "6e50d1b4",
   "metadata": {},
   "outputs": [],
   "source": []
  },
  {
   "cell_type": "code",
   "execution_count": null,
   "id": "f2b31272",
   "metadata": {},
   "outputs": [],
   "source": []
  },
  {
   "cell_type": "code",
   "execution_count": null,
   "id": "103e5d7b",
   "metadata": {},
   "outputs": [],
   "source": []
  },
  {
   "cell_type": "code",
   "execution_count": null,
   "id": "c3cf9d05",
   "metadata": {},
   "outputs": [],
   "source": []
  },
  {
   "cell_type": "code",
   "execution_count": null,
   "id": "9601dbca",
   "metadata": {},
   "outputs": [],
   "source": []
  },
  {
   "cell_type": "code",
   "execution_count": null,
   "id": "3c50ac1b",
   "metadata": {},
   "outputs": [],
   "source": []
  },
  {
   "cell_type": "code",
   "execution_count": null,
   "id": "eee40960",
   "metadata": {},
   "outputs": [],
   "source": []
  },
  {
   "cell_type": "code",
   "execution_count": null,
   "id": "d3d126da",
   "metadata": {},
   "outputs": [],
   "source": []
  },
  {
   "cell_type": "code",
   "execution_count": null,
   "id": "aa40943e",
   "metadata": {},
   "outputs": [],
   "source": []
  },
  {
   "cell_type": "code",
   "execution_count": null,
   "id": "5bf2fc89",
   "metadata": {},
   "outputs": [],
   "source": []
  },
  {
   "cell_type": "code",
   "execution_count": null,
   "id": "670fe709",
   "metadata": {},
   "outputs": [],
   "source": []
  },
  {
   "cell_type": "code",
   "execution_count": null,
   "id": "6221e8f7",
   "metadata": {},
   "outputs": [],
   "source": []
  },
  {
   "cell_type": "code",
   "execution_count": null,
   "id": "016f28d7",
   "metadata": {},
   "outputs": [],
   "source": []
  },
  {
   "cell_type": "code",
   "execution_count": null,
   "id": "b8af4e97",
   "metadata": {},
   "outputs": [],
   "source": []
  },
  {
   "cell_type": "code",
   "execution_count": null,
   "id": "f6443d97",
   "metadata": {},
   "outputs": [],
   "source": []
  },
  {
   "cell_type": "code",
   "execution_count": null,
   "id": "b6964441",
   "metadata": {},
   "outputs": [],
   "source": []
  },
  {
   "cell_type": "code",
   "execution_count": null,
   "id": "645035b0",
   "metadata": {},
   "outputs": [],
   "source": []
  },
  {
   "cell_type": "code",
   "execution_count": null,
   "id": "e501bce9",
   "metadata": {},
   "outputs": [],
   "source": []
  },
  {
   "cell_type": "code",
   "execution_count": null,
   "id": "a1d25623",
   "metadata": {},
   "outputs": [],
   "source": []
  },
  {
   "cell_type": "code",
   "execution_count": null,
   "id": "69a5cceb",
   "metadata": {},
   "outputs": [],
   "source": []
  },
  {
   "cell_type": "code",
   "execution_count": null,
   "id": "0c942579",
   "metadata": {},
   "outputs": [],
   "source": []
  },
  {
   "cell_type": "code",
   "execution_count": null,
   "id": "f9700fce",
   "metadata": {},
   "outputs": [],
   "source": []
  },
  {
   "cell_type": "code",
   "execution_count": null,
   "id": "4dd3c696",
   "metadata": {},
   "outputs": [],
   "source": []
  },
  {
   "cell_type": "code",
   "execution_count": null,
   "id": "843b2441",
   "metadata": {},
   "outputs": [],
   "source": []
  },
  {
   "cell_type": "code",
   "execution_count": null,
   "id": "ce55190f",
   "metadata": {},
   "outputs": [],
   "source": []
  },
  {
   "cell_type": "code",
   "execution_count": null,
   "id": "988eecf6",
   "metadata": {},
   "outputs": [],
   "source": []
  },
  {
   "cell_type": "code",
   "execution_count": null,
   "id": "3e88c90a",
   "metadata": {},
   "outputs": [],
   "source": []
  },
  {
   "cell_type": "code",
   "execution_count": null,
   "id": "f0fd6853",
   "metadata": {},
   "outputs": [],
   "source": []
  },
  {
   "cell_type": "code",
   "execution_count": null,
   "id": "d73902d7",
   "metadata": {},
   "outputs": [],
   "source": []
  },
  {
   "cell_type": "code",
   "execution_count": null,
   "id": "2abcae81",
   "metadata": {},
   "outputs": [],
   "source": []
  },
  {
   "cell_type": "code",
   "execution_count": null,
   "id": "e5de7ee2",
   "metadata": {},
   "outputs": [],
   "source": []
  },
  {
   "cell_type": "code",
   "execution_count": null,
   "id": "caf43b49",
   "metadata": {},
   "outputs": [],
   "source": []
  },
  {
   "cell_type": "code",
   "execution_count": null,
   "id": "aa2c6fe0",
   "metadata": {},
   "outputs": [],
   "source": []
  },
  {
   "cell_type": "code",
   "execution_count": null,
   "id": "3a07638a",
   "metadata": {},
   "outputs": [],
   "source": []
  },
  {
   "cell_type": "code",
   "execution_count": null,
   "id": "ecbf6ebf",
   "metadata": {},
   "outputs": [],
   "source": []
  },
  {
   "cell_type": "code",
   "execution_count": null,
   "id": "6677d56c",
   "metadata": {},
   "outputs": [],
   "source": []
  },
  {
   "cell_type": "code",
   "execution_count": null,
   "id": "bd54c840",
   "metadata": {},
   "outputs": [],
   "source": []
  },
  {
   "cell_type": "code",
   "execution_count": null,
   "id": "004718e6",
   "metadata": {},
   "outputs": [],
   "source": []
  },
  {
   "cell_type": "code",
   "execution_count": null,
   "id": "44657b13",
   "metadata": {},
   "outputs": [],
   "source": []
  },
  {
   "cell_type": "code",
   "execution_count": null,
   "id": "bb6c4415",
   "metadata": {},
   "outputs": [],
   "source": []
  },
  {
   "cell_type": "code",
   "execution_count": null,
   "id": "d905fcf0",
   "metadata": {},
   "outputs": [],
   "source": []
  },
  {
   "cell_type": "code",
   "execution_count": null,
   "id": "a301899d",
   "metadata": {},
   "outputs": [],
   "source": []
  },
  {
   "cell_type": "code",
   "execution_count": null,
   "id": "d387a5c0",
   "metadata": {},
   "outputs": [],
   "source": []
  },
  {
   "cell_type": "code",
   "execution_count": null,
   "id": "8cb20ad4",
   "metadata": {},
   "outputs": [],
   "source": []
  },
  {
   "cell_type": "code",
   "execution_count": null,
   "id": "003c8ac9",
   "metadata": {},
   "outputs": [],
   "source": []
  },
  {
   "cell_type": "code",
   "execution_count": null,
   "id": "7c11b964",
   "metadata": {},
   "outputs": [],
   "source": []
  },
  {
   "cell_type": "code",
   "execution_count": null,
   "id": "0680a995",
   "metadata": {},
   "outputs": [],
   "source": []
  },
  {
   "cell_type": "code",
   "execution_count": null,
   "id": "e34f6592",
   "metadata": {},
   "outputs": [],
   "source": []
  },
  {
   "cell_type": "code",
   "execution_count": null,
   "id": "24deb07c",
   "metadata": {},
   "outputs": [],
   "source": []
  },
  {
   "cell_type": "code",
   "execution_count": null,
   "id": "8fb588d7",
   "metadata": {},
   "outputs": [],
   "source": []
  },
  {
   "cell_type": "code",
   "execution_count": null,
   "id": "71116d13",
   "metadata": {},
   "outputs": [],
   "source": []
  },
  {
   "cell_type": "code",
   "execution_count": null,
   "id": "1bd472cd",
   "metadata": {},
   "outputs": [],
   "source": []
  },
  {
   "cell_type": "code",
   "execution_count": null,
   "id": "5ecbc211",
   "metadata": {},
   "outputs": [],
   "source": []
  },
  {
   "cell_type": "code",
   "execution_count": null,
   "id": "97e7c630",
   "metadata": {},
   "outputs": [],
   "source": []
  },
  {
   "cell_type": "code",
   "execution_count": null,
   "id": "bef94cde",
   "metadata": {},
   "outputs": [],
   "source": []
  },
  {
   "cell_type": "code",
   "execution_count": null,
   "id": "a5d6b186",
   "metadata": {},
   "outputs": [],
   "source": []
  },
  {
   "cell_type": "code",
   "execution_count": null,
   "id": "fc0b8b5d",
   "metadata": {},
   "outputs": [],
   "source": []
  },
  {
   "cell_type": "code",
   "execution_count": null,
   "id": "30469ed2",
   "metadata": {},
   "outputs": [],
   "source": []
  },
  {
   "cell_type": "code",
   "execution_count": null,
   "id": "e366f4cd",
   "metadata": {},
   "outputs": [],
   "source": []
  }
 ],
 "metadata": {
  "kernelspec": {
   "display_name": "Nicholas_py4dstem",
   "language": "python",
   "name": "python3"
  },
  "language_info": {
   "codemirror_mode": {
    "name": "ipython",
    "version": 3
   },
   "file_extension": ".py",
   "mimetype": "text/x-python",
   "name": "python",
   "nbconvert_exporter": "python",
   "pygments_lexer": "ipython3",
   "version": "3.13.5"
  }
 },
 "nbformat": 4,
 "nbformat_minor": 5
}
