{
 "cells": [
  {
   "cell_type": "markdown",
   "id": "210c6a07-8350-4ce2-a560-0e094d11ce9b",
   "metadata": {},
   "source": [
    "# Flowline analysis of 4D-STEM data from Nicholas Marchese\n",
    "\n",
    "\n",
    "Nicholas Marchese - 24th June, 2025\n",
    "\n",
    "Using the polymers branch  in NM_py4DSTEM"
   ]
  },
  {
   "cell_type": "code",
   "execution_count": null,
   "id": "da1127f8",
   "metadata": {},
   "outputs": [],
   "source": []
  },
  {
   "cell_type": "code",
   "execution_count": null,
   "id": "07686c80",
   "metadata": {},
   "outputs": [],
   "source": [
    "import os\n",
    "os.environ[\"OMP_NUM_THREADS\"] = \"2\" # Change N to required number of threads, \n",
    "                                    # often N=1 is sufficient for most workloads.\n",
    "\n",
    "# import torch\n",
    "\n",
    "# torch.set_num_threads(1) # When using .cpu(), PyTorch will also allocate all cores\n",
    "# #                          # regardless if you set your os environment variable."
   ]
  },
  {
   "cell_type": "markdown",
   "id": "373a919e",
   "metadata": {},
   "source": []
  },
  {
   "cell_type": "code",
   "execution_count": null,
   "id": "9258f438-6c03-48b0-8149-1519d77d087a",
   "metadata": {},
   "outputs": [],
   "source": [
    "%load_ext autoreload\n",
    "%autoreload 2"
   ]
  },
  {
   "cell_type": "code",
   "execution_count": null,
   "id": "e18e2b4e-a843-4ed6-a83d-8f24664483a9",
   "metadata": {},
   "outputs": [],
   "source": [
    "import py4DSTEM\n",
    "import numpy as np\n",
    "from scipy.ndimage import gaussian_filter\n",
    "from scipy.ndimage import binary_dilation, binary_erosion\n",
    "import matplotlib.pyplot as plt\n",
    "import re\n",
    "import random\n",
    "import os\n",
    "from scipy.signal import medfilt2d\n",
    "\n",
    "show = py4DSTEM.visualize.show"
   ]
  },
  {
   "cell_type": "code",
   "execution_count": null,
   "id": "d5f19c38",
   "metadata": {},
   "outputs": [],
   "source": [
    "import matplotlib.pyplot as plt\n",
    "plt.close('all')"
   ]
  },
  {
   "cell_type": "code",
   "execution_count": null,
   "id": "00ff7679-007a-41a8-913a-7d78f4ee3960",
   "metadata": {},
   "outputs": [],
   "source": [
    "py4DSTEM.__version__"
   ]
  },
  {
   "cell_type": "code",
   "execution_count": null,
   "id": "bea2dfcd",
   "metadata": {},
   "outputs": [],
   "source": []
  },
  {
   "cell_type": "code",
   "execution_count": null,
   "id": "d5b00eaa-e719-4051-9979-1aa68240769b",
   "metadata": {},
   "outputs": [],
   "source": [
    "# file_path_data = '/media/cophus/DATA/4DSTEM/TsarfatiYael/dataset19.dm4'\n",
    "file_data= '/home/yaeltsa/pg3t2/data/01-09-2025/21sample1-300cycles-0p3-0p5_ox0p2_insitu_carbonPaper_loops_ca_10_Mag48K_CL2p7_mono_20_spot_size6_cnvAngle0p35_140X140_step_size15_13p3ms_Bin4_15eV_driedInVacuumRT/STEM SI.dm4'\n",
    "# file_path_Au = '/home/njmarch/data/PB2T-TEG/Au/STEM SI.dm4'\n",
    "# file_path_probe = '/media/cophus/DATA/4DSTEM/TsarfatiYael/probe.dm4'\n",
    "file_path_output = '/home/njmarch/data/pg3T2/01-09-2025/30/_analysis_'"
   ]
  },
  {
   "cell_type": "code",
   "execution_count": null,
   "id": "5b9acb51",
   "metadata": {},
   "outputs": [],
   "source": [
    "# Extract the date after 'data/'\n",
    "date_match = re.search(r\"data/([^/]+)\", file_data)\n",
    "date = date_match.group(1) if date_match else \"\"\n",
    "# Extract the name before _ca or _mag after the last slash\n",
    "name_match = re.search(r\"/([^/]+?)_(?:ca|mag)\", file_data)\n",
    "name = name_match.group(1) if name_match else \"\"\n",
    "# Concatenate\n",
    "data_id= f\"{date}_{name}\"\n",
    "print(f\"data_id is : {data_id}\")\n",
    "\n",
    "\n",
    "match = re.search(r\"step_size(\\d{1,2})(?!\\d)\", file_data)\n",
    "step_size = match.group(1) if match else \"\"\n",
    "print(f\"step size is : {step_size}\")\n",
    "\n",
    "match = re.search(r\"CL(2p[17])\", file_data)\n",
    "cl_raw = match.group(1) if match else \"\"\n",
    "cl_value = cl_raw.replace('p', '.') if cl_raw else \"\"\n",
    "print(f\"CL value is : {cl_value}\")\n",
    "\n",
    "match = re.search(r\"[bB]in(?:ning)?[-_]?([248])\", file_data)\n",
    "acq_binning = match.group(1) if match else \"\"\n",
    "print(f\"Acquisition Binning is : {acq_binning}\")\n",
    "\n",
    "# file_path_output='/Volumes/Yael-2024/07-03-2024/Results/'+'polar_'+data_id+'/'\n",
    "\n",
    "# if os.path.exists(file_path_output):\n",
    "#     print(\"filePath already exist.\")\n",
    "# else:\n",
    "#     print(file_path_output)\n",
    "#     os.mkdir(file_path_output) "
   ]
  },
  {
   "cell_type": "markdown",
   "id": "161f3801",
   "metadata": {},
   "source": [
    "# User Input"
   ]
  },
  {
   "cell_type": "code",
   "execution_count": null,
   "id": "db8a85f3",
   "metadata": {},
   "outputs": [],
   "source": [
    "'''\n",
    "Real space to q space rotation\n",
    "old measurement - rotation_calibration_theta= -0.118682 # for 3-15-2021 session TEAMI\n",
    "'''\n",
    "rotation_calibration=-6.8 #degrees \n",
    "# the rotation between real and reciprocal space in radians\n",
    "# The TEM or diffraction pattern in EFTEM mode on the K3 is 186.8 degrees clockwise with respect to the scanned images in Microprobe EFSTEM mode\n",
    "# rotation_calibration_theta= -0.118682 # for 3-15-2021 session TEAMI\n",
    "\n"
   ]
  },
  {
   "cell_type": "code",
   "execution_count": null,
   "id": "f6c3887f",
   "metadata": {},
   "outputs": [],
   "source": [
    "binfactor = 4\n",
    "pixel_size = 0.005287732135552322 #0.005267464108865549 # in A/pixel\n",
    "#print((0.005287732135552322-0.005267464108865549)/0.005287732135552322 )"
   ]
  },
  {
   "cell_type": "markdown",
   "id": "3cf8bece-7705-4823-8f04-6c6e3fc5f8cb",
   "metadata": {},
   "source": [
    "# Import data"
   ]
  },
  {
   "cell_type": "code",
   "execution_count": null,
   "id": "ebb6f6a4-32d6-431b-b755-03f63ac3d567",
   "metadata": {},
   "outputs": [],
   "source": [
    "\n",
    "dataset = py4DSTEM.io.import_file(\n",
    "    file_data,\n",
    "    data_id = 'datacube_0',\n",
    "    binfactor = binfactor,\n",
    ")"
   ]
  },
  {
   "cell_type": "code",
   "execution_count": null,
   "id": "169502b7-0d73-4770-bca7-a9e110140fdb",
   "metadata": {},
   "outputs": [],
   "source": [
    "dataset"
   ]
  },
  {
   "cell_type": "code",
   "execution_count": null,
   "id": "fcf0e12a",
   "metadata": {},
   "outputs": [],
   "source": [
    "dataset.data.shape"
   ]
  },
  {
   "cell_type": "code",
   "execution_count": null,
   "id": "ba94efa8",
   "metadata": {},
   "outputs": [],
   "source": [
    "dataset.R_pixel_size\n"
   ]
  },
  {
   "cell_type": "code",
   "execution_count": null,
   "id": "2619cb34",
   "metadata": {},
   "outputs": [],
   "source": [
    "dataset.R_pixel_units\n"
   ]
  },
  {
   "cell_type": "code",
   "execution_count": null,
   "id": "d96bdc1a",
   "metadata": {},
   "outputs": [],
   "source": [
    "# dataset.calibration.set_R_pixel_size(6.844)\n",
    "# dataset.calibration.set_R_pixel_units('nm')\n",
    "dataset.calibration.set_Q_pixel_size(pixel_size)  # For binfactor of 4\n",
    "dataset.calibration.set_Q_pixel_units('A^-1')"
   ]
  },
  {
   "cell_type": "code",
   "execution_count": null,
   "id": "9d73c726",
   "metadata": {},
   "outputs": [],
   "source": [
    "# dataset.bin_Q(4)"
   ]
  },
  {
   "cell_type": "code",
   "execution_count": null,
   "id": "31c8d60e",
   "metadata": {},
   "outputs": [],
   "source": [
    "dp_max = dataset.get_dp_max();\n",
    "dp_mean = dataset.get_dp_mean();"
   ]
  },
  {
   "cell_type": "code",
   "execution_count": null,
   "id": "3c3401bf-b78a-4218-a8d4-ed65998405ca",
   "metadata": {},
   "outputs": [],
   "source": [
    "py4DSTEM.show(\n",
    "    [\n",
    "        dataset.tree('dp_mean'),\n",
    "        dataset.tree('dp_max'),\n",
    "    ]\n",
    "        )"
   ]
  },
  {
   "cell_type": "code",
   "execution_count": null,
   "id": "ab6e9101",
   "metadata": {},
   "outputs": [],
   "source": [
    "sliced = dataset.data[::6, ::6]\n",
    "\n",
    "              \n",
    "py4DSTEM.show(\n",
    "    [[\n",
    "        gaussian_filter(\n",
    "            py4DSTEM.process.utils.bin2D(sliced[i, j], 2),\n",
    "            sigma=1,\n",
    "        )\n",
    "            for j in range(sliced.shape[1])] for i in range(sliced.shape[0])\n",
    "    ],\n",
    "    # vmin=0.3,\n",
    "    # vmax = 0.994,\n",
    "    vmin=0.8,\n",
    "    vmax = 0.98,\n",
    "    ticks = False,\n",
    "    axsize=(1, 1),\n",
    "    cmap='turbo',\n",
    ")"
   ]
  },
  {
   "cell_type": "code",
   "execution_count": null,
   "id": "f51579cc",
   "metadata": {},
   "outputs": [],
   "source": [
    "# sliced = dataset.data[50:70, 10:20, 40:60, 43:63]\n",
    "\n",
    "              \n",
    "# py4DSTEM.show(\n",
    "#     [[\n",
    "#         sliced[i, j] for j in range(sliced.shape[1])] for i in range(sliced.shape[0])\n",
    "#     ],\n",
    "#     # vmin=0.3,\n",
    "#     # vmax = 0.994,\n",
    "#     vmin=0.8,\n",
    "#     vmax = 0.98,\n",
    "#     ticks = False,\n",
    "#     axsize=(2,2),\n",
    "#     cmap='turbo',\n",
    "# )"
   ]
  },
  {
   "cell_type": "code",
   "execution_count": null,
   "id": "f36c3c1f-bcef-4a6c-8747-30527e32e8e0",
   "metadata": {},
   "outputs": [],
   "source": [
    "# probe = py4DSTEM.io.read(\n",
    "#     file_path_probe,\n",
    "#     binfactor=2,\n",
    "# )"
   ]
  },
  {
   "cell_type": "markdown",
   "id": "3d82ecf4-32c0-4fce-83c2-89652903bdda",
   "metadata": {},
   "source": [
    "# Preprocessing"
   ]
  },
  {
   "cell_type": "code",
   "execution_count": null,
   "id": "ff5e0f5e-c8ee-4dd7-a2b3-70b5dc910060",
   "metadata": {},
   "outputs": [],
   "source": [
    "# Save the output data and probe\n",
    "# py4DSTEM.io.save(\n",
    "#     file_path_output,\n",
    "#     dataset,\n",
    "# )"
   ]
  },
  {
   "cell_type": "code",
   "execution_count": null,
   "id": "5658aefe",
   "metadata": {},
   "outputs": [],
   "source": [
    "print(dataset.shape[2])\n",
    "print(dataset.shape[3])\n",
    "center = (dataset.shape[2]/2-7, dataset.shape[3]/2-2)\n",
    "expand_BF = 8\n",
    "geometry_BF = (center, expand_BF)\n",
    "geometry_DF = (center, (expand_BF+3, 100))\n",
    "\n",
    "# Show selected virtual detectors\n",
    "\n",
    "dataset.position_detector(\n",
    "    data = dp_max,\n",
    "    mode = 'circle',\n",
    "    geometry = geometry_BF,\n",
    ")\n",
    "\n",
    "dataset.position_detector(\n",
    "    data = dp_max,\n",
    "    mode = 'annulus',\n",
    "    geometry = geometry_DF,\n",
    ")"
   ]
  },
  {
   "cell_type": "code",
   "execution_count": null,
   "id": "9f31a737-49ce-45a5-b781-2ceee8fc266c",
   "metadata": {},
   "outputs": [],
   "source": [
    "# Calculate both virtual images\n",
    "im_bf = dataset.get_virtual_image(\n",
    "    mode = 'circle',\n",
    "    geometry = geometry_BF,\n",
    "    name = 'bright_field'\n",
    ");\n",
    "im_adf = dataset.get_virtual_image(\n",
    "    mode = 'annulus',\n",
    "    geometry = geometry_DF,\n",
    "    name = 'dark_field'\n",
    ");\n",
    "\n",
    "py4DSTEM.show(\n",
    "    [im_bf,im_adf],\n",
    "    figsize=(16,8),\n",
    "    bordercolor = 'w',\n",
    "    cmap='viridis',\n",
    "    title=['Bright Field (BF)','Annular Dark Field (ADF)'],\n",
    "    axsize = (4,8),\n",
    ")"
   ]
  },
  {
   "cell_type": "code",
   "execution_count": null,
   "id": "41735e6c",
   "metadata": {},
   "outputs": [],
   "source": [
    "# Make mask for dataset which is not over hole region\n",
    "print(np.min(im_bf.data))\n",
    "print(np.max(im_bf.data))\n",
    "print(np.min(im_adf.data))\n",
    "print(np.max(im_adf.data))\n",
    "print(dataset.shape)\n"
   ]
  },
  {
   "cell_type": "code",
   "execution_count": null,
   "id": "34a9eeab",
   "metadata": {},
   "outputs": [],
   "source": [
    "xs_reals, ys_reals = np.meshgrid(np.arange(dataset.shape[1]), np.arange(dataset.shape[0])) \n",
    "center_real = [dataset.R_Nx/2+10,dataset.R_Ny/2+5]\n",
    "r_max = 70\n",
    "mask = (xs_reals - center_real[0])**2 + (ys_reals - center_real[1])**2 > r_max**2\n",
    "mask = binary_dilation(mask, iterations=3)\n",
    "print(im_bf.data)\n",
    "print(np.sum(mask))\n",
    "print(np.ma.masked_array(im_bf.data, mask))\n",
    "py4DSTEM.show(\n",
    "    [np.ma.masked_array(im_bf.data, mask),np.ma.masked_array(im_adf.data, mask)],\n",
    "    figsize=(16,8),\n",
    "    bordercolor = 'w',\n",
    "    cmap='viridis',\n",
    "    title=['Bright Field (BF)','Annular Dark Field (ADF)'],\n",
    "    axsize = (4,8),\n",
    ")"
   ]
  },
  {
   "cell_type": "code",
   "execution_count": null,
   "id": "f6fc6bce",
   "metadata": {},
   "outputs": [],
   "source": [
    "probe = py4DSTEM.braggvectors.Probe(dp_mean.data)"
   ]
  },
  {
   "cell_type": "code",
   "execution_count": null,
   "id": "1ae336a8",
   "metadata": {},
   "outputs": [],
   "source": [
    "probe.measure_disk()"
   ]
  },
  {
   "cell_type": "code",
   "execution_count": null,
   "id": "ca83fc3b",
   "metadata": {},
   "outputs": [],
   "source": [
    "probe_semiangle, probe_qx0, probe_qy0 = py4DSTEM.process.calibration.get_probe_size(probe.probe)"
   ]
  },
  {
   "cell_type": "code",
   "execution_count": null,
   "id": "3dd01c49",
   "metadata": {},
   "outputs": [],
   "source": [
    "probe.get_kernel(\n",
    "  mode = 'sigmoid',\n",
    "  origin = (probe_qx0, probe_qy0),\n",
    "  radii = (\n",
    "      probe_semiangle*1.0,\n",
    "      probe_semiangle*3.0,\n",
    "   )\n",
    ")\n",
    "\n",
    "py4DSTEM.visualize.show_kernel(\n",
    "    probe.kernel,\n",
    "    R = 30,\n",
    "    L = 30,\n",
    "    W = 1,\n",
    "    figsize = (6,3),\n",
    ")"
   ]
  },
  {
   "cell_type": "code",
   "execution_count": null,
   "id": "c8a1511b-629b-4400-b7e5-e48d545ffa4f",
   "metadata": {},
   "outputs": [],
   "source": [
    "# Choose some diffraction patterns to use for hyperparameter tuning\n",
    "n_samples_x = 6\n",
    "n_samples_y = 6\n",
    "rxs, rys = np.meshgrid(\n",
    "        np.round(np.linspace(0 + dataset.shape[0] / 10, dataset.shape[0] - dataset.shape[0] / 10, n_samples_x)).astype(int),\n",
    "        np.round(np.linspace(0 + dataset.shape[1] / 10, dataset.shape[1] - dataset.shape[1] / 10, n_samples_y)).astype(int),\n",
    ")\n",
    "rxs = list(rxs.flatten())\n",
    "rys = list(rys.flatten())\n",
    "colors = ['r' for i in range(len(rxs))]\n",
    "\n",
    "py4DSTEM.visualize.show_points(\n",
    "    im_adf,\n",
    "    x=rxs,\n",
    "    y=rys,\n",
    "    pointcolor=colors,\n",
    "    figsize=(4,4)\n",
    ")\n",
    "\n",
    "py4DSTEM.visualize.show_image_grid(\n",
    "    get_ar = lambda i:dataset.data[rxs[i],rys[i],:,:],\n",
    "    H=n_samples_x,\n",
    "    W=n_samples_y,\n",
    "    axsize=(3,3),\n",
    "    power = 0.5,\n",
    "    get_bordercolor = lambda i:colors[i],\n",
    ")"
   ]
  },
  {
   "cell_type": "code",
   "execution_count": null,
   "id": "679df541",
   "metadata": {},
   "outputs": [],
   "source": [
    "# Find the brightest disk in the image, which will be the unscattered center beam in this data.\n",
    "(qx0, qy0, _) = py4DSTEM.process.calibration.get_origin(\n",
    "    dataset,\n",
    "    r = probe_semiangle,\n",
    "    rscale = 2.0,\n",
    ")"
   ]
  },
  {
   "cell_type": "code",
   "execution_count": null,
   "id": "732cc095",
   "metadata": {},
   "outputs": [],
   "source": [
    "# Fit a plane to the origins\n",
    "(qx0_fit, qy0_fit, qx0_res, qy0_res) = py4DSTEM.process.calibration.fit_origin(\n",
    "    (qx0, qy0),\n",
    "    fitfunction=\"plane\",\n",
    ")\n",
    "\n",
    "# plot the original and fitted origin shifts\n",
    "py4DSTEM.show(\n",
    "    [\n",
    "        [qx0 - center[0], qx0_fit - center[0], qx0_res],\n",
    "        [qy0 - center[1], qy0_fit - center[1], qy0_res],\n",
    "    ],\n",
    "    cmap = 'RdBu_r',\n",
    "    intensity_range='absolute',    \n",
    "    vmin = -2,\n",
    "    vmax = 2,\n",
    ")"
   ]
  },
  {
   "cell_type": "code",
   "execution_count": null,
   "id": "12bf4752",
   "metadata": {},
   "outputs": [],
   "source": [
    "# add the centering calibration to the dataset\n",
    "dataset.calibration.set_origin((qx0_fit, qy0_fit))"
   ]
  },
  {
   "cell_type": "code",
   "execution_count": null,
   "id": "4750a419",
   "metadata": {},
   "outputs": [],
   "source": [
    "# First, generate mean diffraction pattern using the centered patterns\n",
    "dp_mean_centered = dataset.get_virtual_diffraction(\n",
    "    method = 'mean',\n",
    "    shift_center = True,\n",
    ")"
   ]
  },
  {
   "cell_type": "code",
   "execution_count": null,
   "id": "801dc238",
   "metadata": {},
   "outputs": [],
   "source": [
    "# compare the original, unshifted mean DP to the corrected one:\n",
    "py4DSTEM.show(\n",
    "    [\n",
    "        dataset.tree('dp_mean'),\n",
    "        dp_mean_centered,\n",
    "        # [dataset.tree('dp_mean').daata - dp_mean_centered]\n",
    "    ],\n",
    "    axsize = (8, 8),\n",
    "    scaling = 'log',\n",
    "    vmax = 1,\n",
    ")\n",
    "\n",
    "# Here since centered image shifts origin of diffraction pattern for each detector position in realspace, the average value of a pixel over all diffraction patterns will become more gathered according to that shift\n",
    "# In other words, the diffraction signal will be shifted according to the origin shift, undoing the smearing of signal (here seen as origins being skewed along diagonals)"
   ]
  },
  {
   "cell_type": "code",
   "execution_count": null,
   "id": "ccfc73b1",
   "metadata": {},
   "outputs": [],
   "source": [
    "# Fitting range for diffraction ring\n",
    "# q_range = (12,28)  # amorphous halo\n",
    "q_range = (145 / binfactor, 260 / binfactor)  # inner ring\n",
    "\n",
    "\n",
    "# This is a test plot, showing you the fitting range\n",
    "py4DSTEM.process.polar.fit_amorphous_ring(\n",
    "    dp_mean_centered,\n",
    "    center = (np.mean(qx0_fit), np.mean(qy0_fit)),\n",
    "    radial_range = q_range, \n",
    "    show_fit_mask = True,\n",
    "    verbose = False,\n",
    "    figsize = (8, 8),\n",
    ");"
   ]
  },
  {
   "cell_type": "code",
   "execution_count": null,
   "id": "29176dd1",
   "metadata": {},
   "outputs": [],
   "source": [
    "params = (np.mean(qx0_fit),\n",
    " np.mean(qy0_fit),\n",
    " np.float64(40.73975833083233),\n",
    " np.float64(39.59277672372462),\n",
    " np.float64(-2.729947861471881))\n",
    "\n",
    "p_dsg = np.array([ 3.76876214e+01,  4.63609962e+00,  3.42475483e+01,  1.57990098e+00,\n",
    "        1.06194367e+01, -2.10330192e+01,  np.mean(qx0_fit),  np.mean(qy0_fit),\n",
    "        6.08178012e-04, -2.59723818e-05,  6.32253116e-04])"
   ]
  },
  {
   "cell_type": "code",
   "execution_count": null,
   "id": "047b0a60",
   "metadata": {},
   "outputs": [],
   "source": [
    "# apply the elliptic calibrations\n",
    "dataset.calibration.set_ellipse(params[2:5])"
   ]
  },
  {
   "cell_type": "code",
   "execution_count": null,
   "id": "1338409d",
   "metadata": {},
   "outputs": [],
   "source": [
    "dp_mean_ellipse = dataset.get_virtual_diffraction(\n",
    "    method = 'mean',\n",
    "    shift_center = True,\n",
    ")"
   ]
  },
  {
   "cell_type": "code",
   "execution_count": null,
   "id": "6756931f",
   "metadata": {},
   "outputs": [],
   "source": [
    "# Plot a 2D histogram of the Bragg peaks\n",
    "py4DSTEM.visualize.show_amorphous_ring_fit(\n",
    "    dp_mean_ellipse.data,\n",
    "    fitradii = q_range,\n",
    "    p_dsg = p_dsg,\n",
    "    figsize=(8,8),\n",
    "    ellipse=True,\n",
    ")"
   ]
  },
  {
   "cell_type": "code",
   "execution_count": null,
   "id": "af199b9f",
   "metadata": {},
   "outputs": [],
   "source": [
    "polardata = py4DSTEM.PolarDatacube(\n",
    "    dataset,\n",
    "    qmin = 0,\n",
    "    qmax = 70.0,\n",
    "    # qstep = 1,\n",
    "    qstep = 0.5,\n",
    "    n_annular = 100,\n",
    "    two_fold_symmetry = True,\n",
    "    qscale = 1.0,\n",
    ")\n"
   ]
  },
  {
   "cell_type": "code",
   "execution_count": null,
   "id": "76946905",
   "metadata": {},
   "outputs": [],
   "source": [
    "# show polar transformation for different probe positions\n",
    "\n",
    "# x,y = 50, 70\n",
    "x,y = 78, 90\n",
    "\n",
    "# x,y = 1,160\n",
    "\n",
    "# Show pattern in cartesian + polar\n",
    "py4DSTEM.show( \n",
    "    [\n",
    "        dataset.data[x,y],\n",
    "        polardata.data[x,y],\n",
    "    ],\n",
    "    # intensity_range = 'absolute',\n",
    "    # vmax = 40,\n",
    "    cmap = 'viridis',\n",
    "    axsize = (4,4),\n",
    ")\n",
    "\n",
    "# What determines theta = 0 axis?\n",
    "# Theta is angle from x "
   ]
  },
  {
   "cell_type": "markdown",
   "id": "cd825069",
   "metadata": {},
   "source": []
  },
  {
   "cell_type": "code",
   "execution_count": null,
   "id": "6b3e5215",
   "metadata": {},
   "outputs": [],
   "source": [
    "\n",
    "rx = np.arange(3)\n",
    "ry = np.arange(3)\n",
    "xs = x-2+rx\n",
    "ys = y-3+ry"
   ]
  },
  {
   "cell_type": "code",
   "execution_count": null,
   "id": "3b91a8db",
   "metadata": {},
   "outputs": [],
   "source": [
    "# show polar transformation for different probe positions\n",
    "# Show pattern in cartesian + polar\n",
    "py4DSTEM.show( \n",
    "    [[\n",
    "        dataset.data[i, j]\n",
    "        # polardata.data[i, j],\n",
    "        for j in ys] for i in xs\n",
    "    ],\n",
    "    # intensity_range = 'absolute',\n",
    "    # vmax = 40,\n",
    "    cmap = 'turbo',\n",
    "    axsize = (4,4),\n",
    "    vmin=-0.98,\n",
    "    vmax=0.98,\n",
    ")\n",
    "\n",
    "# What determines theta = 0 axis?\n",
    "# Theta is angle from x "
   ]
  },
  {
   "cell_type": "code",
   "execution_count": null,
   "id": "bc258c3c",
   "metadata": {},
   "outputs": [],
   "source": [
    "# Q Range 0-30\n",
    "\n",
    "# Reference position (e.g., 120,190 from your comment)\n",
    "# x, y = 60, 60\n",
    "\n",
    "\n",
    "\n",
    "positions = [(xv, yv) for xv in xs for yv in ys]\n",
    "\n",
    "detect_params_1 = {\n",
    "    'sigma_annular_deg': 4,#4,\n",
    "    'sigma_radial_px': 2, #1.3,\n",
    "    # 'threshold_abs': 0.855,\n",
    "    'threshold_abs': 0.05,\n",
    "    'threshold_prom_radial': 0.15,#0.15\n",
    "    'threshold_prom_annular': 0.15,\n",
    "    # 'radial_lower_bound': 0,\n",
    "    # 'radial_upper_bound': 30,\n",
    "}\n",
    "\n",
    "fig, ax = plt.subplots(len(positions), 2, figsize=(10, len(positions)*3))\n",
    "\n",
    "for i, (x_val, y_val) in enumerate(positions):\n",
    "    # Cartesian plot (left column)\n",
    "    cart_data = gaussian_filter(dataset.data[x_val, y_val], sigma=0.5)\n",
    "    ax[i, 0].imshow(cart_data, cmap='gray', vmin=0, vmax=15)\n",
    "    ax[i, 0].set_title(f\"({x_val},{y_val}) Cartesian\")\n",
    "    ax[i, 0].axis('off')\n",
    "\n",
    "    # Polar plot with peaks (right column)\n",
    "    polardata.find_peaks_single_pattern(\n",
    "        x_val, y_val,\n",
    "        plot_power_scale=0.5, \n",
    "        plot_scale_size=0.05,\n",
    "        return_background=True,\n",
    "        figax=(fig, ax[i, 1]),\n",
    "        **detect_params_1,\n",
    "        ticks=False,\n",
    "        vmin = 0,\n",
    "        vmax = 0.9988,\n",
    "      \n",
    "        power=1,\n",
    "        cmap='viridis',\n",
    "        plot_result=True,\n",
    "    )\n",
    "    ax[i, 1].axvline(x=40, color='red', linestyle='--', linewidth=1)\n",
    "    ax[i, 1].set_title(\"Polar\")\n",
    "\n",
    "plt.tight_layout()\n"
   ]
  },
  {
   "cell_type": "code",
   "execution_count": null,
   "id": "208fbab8",
   "metadata": {},
   "outputs": [],
   "source": [
    "# Q Range 30-60\n",
    "\n",
    "detect_params_2 = {\n",
    "    'sigma_annular_deg': 5,#3\n",
    "    'sigma_radial_px':0.5,#3\n",
    "    # 'threshold_abs': 0.855,\n",
    "    'threshold_abs': 0.01,\n",
    "    'threshold_prom_radial': 0.04,\n",
    "    'threshold_prom_annular': 0.2,\n",
    "    # 'radial_lower_bound': 30,\n",
    "    # 'radial_upper_bound': 70,\n",
    "}\n",
    "\n",
    "# Reference position (e.g., 120,190 from your comment)\n",
    "\n",
    "\n",
    "positions = [(xv, yv) for xv in xs for yv in ys]\n",
    "\n",
    "\n",
    "fig, ax = plt.subplots(len(positions), 2, figsize=(10, len(positions)*3))\n",
    "\n",
    "for i, (x_val, y_val) in enumerate(positions):\n",
    "    # Cartesian plot (left column)\n",
    "    cart_data = gaussian_filter(dataset.data[x_val, y_val], sigma=0.1)\n",
    "    ax[i, 0].imshow(cart_data, cmap='gray', vmin=0, vmax=5)\n",
    "    ax[i, 0].set_title(f\"({x_val},{y_val}) Cartesian\")\n",
    "    ax[i, 0].axis('off')\n",
    "\n",
    "    # Polar plot with peaks (right column)\n",
    "    polardata.find_peaks_single_pattern(\n",
    "        x_val, y_val,\n",
    "        plot_power_scale=0.5, \n",
    "        plot_scale_size=0.05,\n",
    "        return_background=True,\n",
    "        figax=(fig, ax[i, 1]),\n",
    "        **detect_params_2,\n",
    "        ticks=False,\n",
    "        vmin = -0.998,\n",
    "        vmax = 0.968,\n",
    "        power=1,\n",
    "        cmap='viridis',\n",
    "        plot_result=True,\n",
    "    )\n",
    "    ax[i, 1].axvline(x=40, color='red', linestyle='--', linewidth=1)\n",
    "    ax[i, 1].axvline(x=60, color='red', linestyle='--', linewidth=1)\n",
    "\n",
    "    ax[i, 1].set_title(\"Polar\")\n",
    "\n",
    "plt.tight_layout()"
   ]
  },
  {
   "cell_type": "code",
   "execution_count": null,
   "id": "056ac254",
   "metadata": {},
   "outputs": [],
   "source": [
    "\n",
    "positions = [(xv, yv) for xv in xs for yv in ys]\n",
    "\n",
    "detect_params_3 = {\n",
    "    'sigma_annular_deg': 4,#3.5,\n",
    "    'sigma_radial_px': 3,\n",
    "    # 'threshold_abs': 0.855,\n",
    "    'threshold_abs': 0.1,\n",
    "    'threshold_prom_radial': 0.25,\n",
    "    'threshold_prom_annular': 0.2,\n",
    "    # 'radial_lower_bound': 70,\n",
    "    # 'radial_upper_bound': 300,\n",
    "}\n",
    "\n",
    "fig, ax = plt.subplots(len(positions), 2, figsize=(10, len(positions)*3))\n",
    "\n",
    "for i, (x_val, y_val) in enumerate(positions):\n",
    "    # Cartesian plot (left column)\n",
    "    cart_data = gaussian_filter(dataset.data[x_val, y_val], sigma=0.2)\n",
    "    ax[i, 0].imshow(cart_data, cmap='gray', vmin=0, vmax=10)\n",
    "    ax[i, 0].set_title(f\"({x_val},{y_val}) Cartesian\")\n",
    "    ax[i, 0].axis('off')\n",
    "\n",
    "    # Polar plot with peaks (right column)\n",
    "    polardata.find_peaks_single_pattern(\n",
    "        x_val, y_val,\n",
    "        plot_power_scale=0.5, \n",
    "        plot_scale_size=0.05,\n",
    "        return_background=True,\n",
    "        figax=(fig, ax[i, 1]),\n",
    "        **detect_params_3,\n",
    "        ticks=False,\n",
    "        vmin = 0,\n",
    "        vmax = 0.9998,\n",
    "      \n",
    "        power=1,\n",
    "        cmap='viridis',\n",
    "        plot_result=True,\n",
    "    )\n",
    "    ax[i, 1].axvline(x=70, color='red', linestyle='--', linewidth=1)\n",
    "    ax[i, 1].axvline(x=160, color='red', linestyle='--', linewidth=1)\n",
    "\n",
    "    ax[i, 1].set_title(\"Polar\")\n",
    "\n",
    "plt.tight_layout()"
   ]
  },
  {
   "cell_type": "code",
   "execution_count": null,
   "id": "e8b0ad18",
   "metadata": {},
   "outputs": [],
   "source": [
    "kwargs_pass = []\n",
    "\n",
    "detect_params = {\n",
    "    'sigma_annular_deg':  detect_params_1 ['sigma_annular_deg'],#4,\n",
    "    'sigma_radial_px': detect_params_1 ['sigma_radial_px'],# #1.3,\n",
    "    'threshold_abs': detect_params_1 ['threshold_abs'],# #1.3,\n",
    "    'threshold_prom_radial': detect_params_1 ['threshold_prom_radial'],# #1.3,\n",
    "    'threshold_prom_annular': detect_params_1 ['threshold_prom_annular'],# #1.3,\n",
    "    'radial_lower_bound': 0,# #1.3,\n",
    "    'radial_upper_bound': 40,\n",
    "}\n",
    "kwargs_pass.append(detect_params)\n",
    "\n",
    "detect_params = {\n",
    "    'sigma_annular_deg':  detect_params_2 ['sigma_annular_deg'],#4,\n",
    "    'sigma_radial_px': detect_params_2 ['sigma_radial_px'],# #1.3,\n",
    "    'threshold_abs': detect_params_2 ['threshold_abs'],# #1.3,\n",
    "    'threshold_prom_radial': detect_params_2 ['threshold_prom_radial'],# #1.3,\n",
    "    'threshold_prom_annular': detect_params_2 ['threshold_prom_annular'],# #1.3,\n",
    "    'radial_lower_bound': 40,\n",
    "    'radial_upper_bound': 60,\n",
    "}\n",
    "kwargs_pass.append(detect_params)\n",
    "\n",
    "detect_params = {\n",
    "    'sigma_annular_deg':  detect_params_3 ['sigma_annular_deg'],#4,\n",
    "    'sigma_radial_px': detect_params_3 ['sigma_radial_px'],# #1.3,\n",
    "    'threshold_abs': detect_params_3 ['threshold_abs'],# #1.3,\n",
    "    'threshold_prom_radial': detect_params_3 ['threshold_prom_radial'],# #1.3,\n",
    "    'threshold_prom_annular': detect_params_3 ['threshold_prom_annular'],# #1.3,\n",
    "    'radial_lower_bound': 60,\n",
    "    'radial_upper_bound': 200,\n",
    "}\n",
    "kwargs_pass.append(detect_params)\n",
    "\n",
    "polardata.find_peaks_segmented(\n",
    "    mask_real=~mask,\n",
    "    kwargs_pass=kwargs_pass,\n",
    ")\n"
   ]
  },
  {
   "cell_type": "code",
   "execution_count": null,
   "id": "d72deb20",
   "metadata": {},
   "outputs": [],
   "source": [
    "# im_polar_sm = polardata.find_peaks_single_pattern(\n",
    "#     xs[0], ys[3],\n",
    "#     plot_power_scale = 0.5, \n",
    "#     plot_scale_size=0.05,\n",
    "#     return_background = True,\n",
    "#     # returnfig = True,\n",
    "#     # figax = (fig,ax[x_ind, y_ind+1]),\n",
    "#     **detect_params,\n",
    "#     ticks = False,\n",
    "#     vmin = -0.998,\n",
    "#     vmax = 0.998,\n",
    "#     # cmap='turbo',\n",
    "#     # plot_result=True,\n",
    "#     # plot_smoothed_image = False,\n",
    "# )\n",
    "# fig, ax = plt.subplots()\n",
    "# im = ax.matshow(im_polar_sm)\n",
    "# plt.colorbar(im)\n",
    "# plt.show()"
   ]
  },
  {
   "cell_type": "code",
   "execution_count": null,
   "id": "a41850df",
   "metadata": {},
   "outputs": [],
   "source": [
    "# peaks_polar, sig_bg, sig_bg_mask = polardata.find_peaks_single_pattern(\n",
    "#     xs[0], ys[3],\n",
    "#     plot_power_scale = 0.5, \n",
    "#     plot_scale_size=0.05,\n",
    "#     return_background = True,\n",
    "#     # # returnfig = True,\n",
    "#     # # figax = (fig,ax[x_ind, y_ind+1]),\n",
    "#     **detect_params,\n",
    "#     ticks = False,\n",
    "#     vmin = -0.998,\n",
    "#     # vmax = 0.998,\n",
    "#     # # cmap='turbo',\n",
    "#     plot_result=True,\n",
    "#     # plot_smoothed_image = False,\n",
    "# )\n",
    "\n",
    "# fig, ax = plt.subplots()\n",
    "# ax.matshow(im_polar_sm)\n",
    "# ax.scatter(peaks_polar[\"qr\"], peaks_polar[\"qt\"], c='r')"
   ]
  },
  {
   "cell_type": "code",
   "execution_count": null,
   "id": "4280d816",
   "metadata": {},
   "outputs": [],
   "source": []
  },
  {
   "cell_type": "code",
   "execution_count": null,
   "id": "3227ed5d",
   "metadata": {},
   "outputs": [],
   "source": [
    "# import skimage\n",
    "# im_peaks = skimage.feature.peak_local_max(\n",
    "#     im_polar_sm,\n",
    "#     num_peaks=100,\n",
    "#     threshold_abs=0.5,\n",
    "#     exclude_border=False,\n",
    "# )\n",
    "# fig, ax = plt.subplots()\n",
    "# ax.matshow(im_polar_sm)\n",
    "# ax.scatter(im_peaks[:, 1], im_peaks[:, 0], c='r')"
   ]
  },
  {
   "cell_type": "code",
   "execution_count": null,
   "id": "632ecb0c",
   "metadata": {},
   "outputs": [],
   "source": [
    "plt.matshow(~mask)\n",
    "plt.colorbar()"
   ]
  },
  {
   "cell_type": "code",
   "execution_count": null,
   "id": "e1130d42",
   "metadata": {},
   "outputs": [],
   "source": [
    "polardata.model_radial_background(\n",
    "    ring_position = [0.01, 0.25, 0.5, 1],\n",
    "    ring_sigma = [0.1, 0.0055, 0.055, 0.5],\n",
    "    refine_model = True,\n",
    "    figsize = (8,3),\n",
    ")\n",
    "# (minmum background intensity, background intensity range, sigma, (ring intesity, ring sigma, ring position))"
   ]
  },
  {
   "cell_type": "code",
   "execution_count": null,
   "id": "93387fc7",
   "metadata": {},
   "outputs": [],
   "source": [
    "# This is a 1D histogram of the detected peaks, before refinement\n",
    "peak_ranges = [\n",
    "    # polardata.qmin, 0.05,\n",
    "    0.04, 0.065,\n",
    "    0.118, 0.145,  # 1st peak range\n",
    "    0.23, 0.3,  # 2nd peak range\n",
    "]\n",
    "peak_positions_inv_A = [\n",
    "    0.0085,\n",
    "    0.0295,\n",
    "    0.268,  # 2nd peak position\n",
    "]\n",
    "polardata.plot_radial_peaks(\n",
    "    # q_pixel_units = True,\n",
    "    figsize = (8,2),\n",
    "    qmin=0,\n",
    "    v_lines=[\n",
    "        *peak_ranges,\n",
    "        # *peak_positions_inv_A\n",
    "\n",
    "    ]\n",
    ")"
   ]
  },
  {
   "cell_type": "code",
   "execution_count": null,
   "id": "6b0e4da7",
   "metadata": {},
   "outputs": [],
   "source": [
    "\n",
    "polardata.plot_radial_peaks(\n",
    "    # q_pixel_units = True,\n",
    "    figsize = (8,2),\n",
    "    qmin=0,\n",
    "    v_lines=[\n",
    "        *peak_ranges,\n",
    "        # *peak_positions_inv_A\n",
    "\n",
    "    ]\n",
    ")\n",
    "plt.ylim(0, 600)  # If using matplotlib\n"
   ]
  },
  {
   "cell_type": "code",
   "execution_count": null,
   "id": "9c853123",
   "metadata": {},
   "outputs": [],
   "source": [
    "# This is a 1D histogram of the detected peaks, before refinement\n",
    "\n",
    "# peak_positions_inv_A = [\n",
    "#     0.0295,\n",
    "#     0.132,  # 1st peak position\n",
    "#     0.268,  # 2nd peak position\n",
    "# ]\n",
    "\n",
    "\n",
    "\n",
    "qmin = 0.028\n",
    "qmax = 0.35\n",
    "\n",
    "# Get the radial profile from polardata — adjust based on actual method\n",
    "# This depends on your library; assuming it's something like:\n",
    "q_vals, intensities = polardata.plot_radial_peaks(qmin=0.02,qmax=0.4,return_plot_data = True)\n",
    "# Mask to get intensity values within desired q-range\n",
    "mask = (q_vals >= qmin) & (q_vals <= qmax)\n",
    "ymax = 1.1 * np.max(intensities[mask])\n",
    "plt.xlim(0.025, 0.4)  # If using matplotlib\n",
    "\n",
    "\n"
   ]
  },
  {
   "cell_type": "code",
   "execution_count": null,
   "id": "7000d58d",
   "metadata": {},
   "outputs": [],
   "source": [
    "polardata.plot_radial_peaks(\n",
    "    # q_pixel_units = True,\n",
    "    figsize = (8,2),\n",
    "    qmin=0,\n",
    "    v_lines=[\n",
    "        # *peak_positions_inv_A\n",
    "        # *peak_positions_inv_A\n",
    "\n",
    "    ]\n",
    "\n",
    ")\n",
    "plt.ylim(0, ymax)  # If using matplotlib\n",
    "\n"
   ]
  },
  {
   "cell_type": "code",
   "execution_count": null,
   "id": "beb1aade",
   "metadata": {},
   "outputs": [],
   "source": [
    " # This is a 1D histogram of the detected peaks, before refinement\n",
    "\n",
    "# peak_positions_inv_A = [\n",
    "#     0.0295,\n",
    "#     0.132,  # 1st peak position\n",
    "#     0.268,  # 2nd peak position\n",
    "# ]\n",
    "\n",
    "peak_positions_inv_A = [\n",
    "    (peak_ranges[i] + peak_ranges[i + 1]) / 2\n",
    "    for i in range(0, len(peak_ranges), 2)\n",
    "]\n",
    "lines=[peak_positions_inv_A[0]-0.001,peak_positions_inv_A[1]+0.002,peak_positions_inv_A[2]+0.004]\n",
    "\n",
    "polardata.plot_radial_peaks(\n",
    "    # q_pixel_units = True,\n",
    "    figsize = (8,2),\n",
    "    qmin=0,    \n",
    "    v_lines=[\n",
    "        *lines#*peak_positions_inv_A,\n",
    "        # *peak_positions_inv_A\n",
    "\n",
    "    ]\n",
    "\n",
    ")\n",
    "plt.ylim(0, 7000)  # If using matplotlib\n"
   ]
  },
  {
   "cell_type": "code",
   "execution_count": null,
   "id": "620ffe9f",
   "metadata": {},
   "outputs": [],
   "source": [
    "peak_positions_A = np.divide(1, lines)\n",
    "peak_positions_A"
   ]
  },
  {
   "cell_type": "code",
   "execution_count": null,
   "id": "439fe35c",
   "metadata": {},
   "outputs": [],
   "source": []
  },
  {
   "cell_type": "code",
   "execution_count": null,
   "id": "b50c094f",
   "metadata": {},
   "outputs": [],
   "source": []
  },
  {
   "cell_type": "code",
   "execution_count": null,
   "id": "c22f4f09",
   "metadata": {},
   "outputs": [],
   "source": []
  },
  {
   "cell_type": "code",
   "execution_count": null,
   "id": "f4991396",
   "metadata": {},
   "outputs": [],
   "source": []
  },
  {
   "cell_type": "code",
   "execution_count": null,
   "id": "9a682c74",
   "metadata": {},
   "outputs": [],
   "source": []
  },
  {
   "cell_type": "code",
   "execution_count": null,
   "id": "1f69409d",
   "metadata": {},
   "outputs": [],
   "source": [
    "# Remove ice peaks\n",
    "# Do by removing peaks above a certain intensity threshold\n",
    "\n",
    "for i in range(polardata.peaks.shape[0]):\n",
    "    for j in range(polardata.peaks.shape[1]):\n",
    "        if len(polardata.peaks[i, j][:]['intensity']) > 0:\n",
    "            mask_peaks = polardata.peaks[i, j][:]['intensity'] > 1\n",
    "            print(mask)\n",
    "            polardata.peaks[i, j].remove(mask_peaks)\n",
    "        # if len(polardata.peaks[i, j][:]['intensity']) > 0:\n",
    "        #     print(np.max(polardata.peaks[i, j][:]['intensity']))\n"
   ]
  },
  {
   "cell_type": "code",
   "execution_count": null,
   "id": "62aca3c5",
   "metadata": {},
   "outputs": [],
   "source": [
    "# polardata.calculate_radial_statistics()"
   ]
  },
  {
   "cell_type": "code",
   "execution_count": null,
   "id": "35cdf969",
   "metadata": {},
   "outputs": [],
   "source": [
    "# polardata.peaks = peaks_backup"
   ]
  },
  {
   "cell_type": "code",
   "execution_count": null,
   "id": "2dba370a",
   "metadata": {},
   "outputs": [],
   "source": [
    "orient_hist = polardata.make_orientation_histogram(\n",
    "    [\n",
    "        [peak_ranges[i], peak_ranges[i+1]] for i in range(0, len(peak_ranges), 2)\n",
    "    ],\n",
    "    normalize_intensity_image = True,\n",
    "    normalize_intensity_stack = False,\n",
    "    use_refined_peaks = False,\n",
    "    upsample_factor=8,\n",
    "    orientation_offset_degrees=rotation_calibration\n",
    "\n",
    ")"
   ]
  },
  {
   "cell_type": "code",
   "execution_count": null,
   "id": "157e3b0f",
   "metadata": {},
   "outputs": [],
   "source": [
    "# %%capture orient_hist_summary\n",
    "# Plot the total signals in each orientation matrix\n",
    "orient_hist_plot_summary_fig, orient_hist_plot_summary_ax = py4DSTEM.show(\n",
    "    [x.sum(axis=2) for x in orient_hist],\n",
    "    cmap='gray',\n",
    "    # axsize=(3,3),\n",
    "    ticks = False,\n",
    "    title=[f'orient_hist {x}' for x in range(len(orient_hist))],\n",
    "    returnfig=True\n",
    ")"
   ]
  },
  {
   "cell_type": "code",
   "execution_count": null,
   "id": "ff090e05",
   "metadata": {},
   "outputs": [],
   "source": []
  },
  {
   "cell_type": "code",
   "execution_count": null,
   "id": "d2af2138",
   "metadata": {},
   "outputs": [],
   "source": [
    "#yael\n",
    "upsample_factor_corr=8\n",
    "step_size=15\n",
    "rotation_calibration= -6.8\n",
    "\n",
    "\n",
    "\n",
    "orient_hist_corr = polardata.make_orientation_histogram(\n",
    "    [\n",
    "        [peak_ranges[i], peak_ranges[i+1]] for i in range(0, len(peak_ranges), 2)\n",
    "    ],\n",
    "    normalize_intensity_image = True,\n",
    "    normalize_intensity_stack = False,\n",
    "    use_refined_peaks = False,\n",
    "    theta_step_deg=1,\n",
    "    upsample_factor=upsample_factor_corr,\n",
    "    orientation_offset_degrees=rotation_calibration\n",
    ")\n"
   ]
  },
  {
   "cell_type": "code",
   "execution_count": null,
   "id": "65fbcf4c",
   "metadata": {},
   "outputs": [],
   "source": [
    "orient_corr = py4DSTEM.process.diffraction.orientation_correlation(\n",
    "    orient_hist_corr,\n",
    "    # radius_max=50,\n",
    ")\n",
    "\n"
   ]
  },
  {
   "cell_type": "code",
   "execution_count": null,
   "id": "9a061974",
   "metadata": {},
   "outputs": [],
   "source": [
    "\n",
    "fig,ax = py4DSTEM.process.diffraction.plot_orientation_correlation(\n",
    "    orient_corr,\n",
    "    calculate_coefs=True,\n",
    "    prob_range = [0.1,10.0],\n",
    "    pixel_size = int(step_size) /upsample_factor_corr,\n",
    "    pixel_units='nm',\n",
    "    returnfig=True,fontsize=18,\n",
    ")"
   ]
  },
  {
   "cell_type": "code",
   "execution_count": null,
   "id": "bf6228d7",
   "metadata": {},
   "outputs": [],
   "source": []
  },
  {
   "cell_type": "code",
   "execution_count": null,
   "id": "5a18e924",
   "metadata": {},
   "outputs": [],
   "source": [
    "# Generate flowline arrays\n",
    "orient_flowlines = py4DSTEM.process.diffraction.make_flowline_map(\n",
    "    orient_hist,\n",
    "    sep_xy = 4.0,\n",
    "    thresh_seed = 0.1,\n",
    "    thresh_grow = 0.05,\n",
    ")"
   ]
  },
  {
   "cell_type": "code",
   "execution_count": null,
   "id": "d71b1f81",
   "metadata": {},
   "outputs": [],
   "source": [
    "\n",
    "orient_flowlines_1 = py4DSTEM.process.diffraction.make_flowline_map(\n",
    "    orient_hist[0:1],\n",
    "    sep_xy = 4.0,\n",
    "    thresh_seed = 0.1,\n",
    "    thresh_grow = 0.05,)\n",
    "orient_flowlines_2 = py4DSTEM.process.diffraction.make_flowline_map(\n",
    "    orient_hist[1:2],\n",
    "    sep_xy = 4.0,\n",
    "    thresh_seed = 0.1,\n",
    "    thresh_grow = 0.05,\n",
    "    )\n",
    "    \n",
    "orient_flowlines_3 = py4DSTEM.process.diffraction.make_flowline_map(\n",
    "    orient_hist[2:3],\n",
    "    sep_xy = 4.0,\n",
    "    thresh_seed = 0.1,\n",
    "    thresh_grow = 0.05,\n",
    "    )"
   ]
  },
  {
   "cell_type": "code",
   "execution_count": null,
   "metadata": {},
   "outputs": [],
   "source": [
    "orient_concat = np.concatenate(\n",
    "    [\n",
    "        orient_flowlines_1,\n",
    "        orient_flowlines_2,\n",
    "        orient_flowlines_3,\n",
    "    ],\n",
    "    axis=0\n",
    ")"
   ]
  },
  {
   "cell_type": "code",
   "execution_count": null,
   "id": "843cb82f",
   "metadata": {},
   "outputs": [],
   "source": [
    "int_range = [0,0.02]\n",
    "figsize = (6,6)\n",
    "\n",
    "im_flowlines = []\n",
    "titles = []\n",
    "for i in range(len(orient_flowlines)):\n",
    "    im = py4DSTEM.process.diffraction.make_flowline_rainbow_image(\n",
    "    orient_flowlines[i][None,:,:,:],\n",
    "    int_range=int_range,\n",
    "    greyscale=False,\n",
    "    white_background=False,\n",
    "    plot_images=False,\n",
    "    sum_radial_bins=True,\n",
    "    figsize = figsize,\n",
    "    )\n",
    "    im_flowlines.append(im[0])\n",
    "    titles.append(f\"flowline {i}\")\n",
    "\n",
    "py4DSTEM.show(\n",
    "    im_flowlines,\n",
    "    titles\n",
    ")"
   ]
  },
  {
   "cell_type": "code",
   "execution_count": null,
   "id": "adfc19e9",
   "metadata": {},
   "outputs": [],
   "source": []
  },
  {
   "cell_type": "code",
   "execution_count": null,
   "id": "00707e4b",
   "metadata": {},
   "outputs": [],
   "source": [
    "# Generate flowline arrays\n",
    "orient_flowlines_fine = py4DSTEM.process.diffraction.make_flowline_map(\n",
    "    orient_hist,\n",
    "    sep_xy = 4.0,\n",
    "    thresh_seed = 0.01,\n",
    "    thresh_grow = 0.005,\n",
    ")"
   ]
  },
  {
   "cell_type": "code",
   "execution_count": null,
   "id": "b0504f6d",
   "metadata": {},
   "outputs": [],
   "source": [
    "\n",
    "orient_flowlines_1_fine = py4DSTEM.process.diffraction.make_flowline_map(\n",
    "    orient_hist[0:1],\n",
    "    sep_xy = 4.0,\n",
    "    thresh_seed = 0.01,\n",
    "    thresh_grow = 0.005,)\n",
    "orient_flowlines_2_fine = py4DSTEM.process.diffraction.make_flowline_map(\n",
    "    orient_hist[1:2],\n",
    "    sep_xy = 4.0,\n",
    "    thresh_seed = 0.01,\n",
    "    thresh_grow = 0.005,)\n",
    "    \n",
    "orient_flowlines_3_fine = py4DSTEM.process.diffraction.make_flowline_map(\n",
    "    orient_hist[2:3],\n",
    "    sep_xy = 4.0,\n",
    "    thresh_seed = 0.01,\n",
    "    thresh_grow = 0.005,\n",
    "    )"
   ]
  },
  {
   "cell_type": "code",
   "execution_count": null,
   "id": "6fae47da",
   "metadata": {},
   "outputs": [],
   "source": [
    "orient_concat = np.concatenate(\n",
    "    [\n",
    "        orient_flowlines_1_fine,\n",
    "        orient_flowlines_2_fine,\n",
    "        orient_flowlines_3_fine,\n",
    "    ],\n",
    "    axis=0\n",
    ")"
   ]
  },
  {
   "cell_type": "code",
   "execution_count": null,
   "id": "752685e1",
   "metadata": {},
   "outputs": [],
   "source": [
    "int_range = [0,0.1]\n",
    "figsize = (6,6)\n",
    "\n",
    "im_flowlines_fine = []\n",
    "titles = []\n",
    "for i in range(len(orient_flowlines_fine)):\n",
    "    im = py4DSTEM.process.diffraction.make_flowline_rainbow_image(\n",
    "    orient_flowlines_fine[i][None,:,:,:],\n",
    "    int_range=int_range,\n",
    "    greyscale=False,\n",
    "    white_background=False,\n",
    "    plot_images=False,\n",
    "    sum_radial_bins=True,\n",
    "    figsize = figsize,\n",
    "    )\n",
    "    im_flowlines_fine.append(im[0])\n",
    "    titles.append(f\"flowline {i}\")\n",
    "\n",
    "py4DSTEM.show(\n",
    "    im_flowlines_fine,\n",
    "    titles\n",
    ")"
   ]
  },
  {
   "cell_type": "code",
   "execution_count": null,
   "id": "75af4cb0",
   "metadata": {},
   "outputs": [],
   "source": [
    "\n",
    "i = 0  # choose which flowline to display\n",
    "im = im_flowlines_fine[i]\n",
    "\n",
    "# If grayscale or single-channel: use vmin/vmax to adjust brightness/contrast\n",
    "plt.figure(figsize=(6, 6))\n",
    "plt.imshow(im, cmap='viridis', vmin=0.0, vmax=0.05)  # adjust vmin/vmax as needed\n",
    "# plt.title(f\"Flowline {i}\")\n",
    "plt.axis('off')\n",
    "plt.gca().set_aspect('equal')  # Enforce 1:1 aspect ratio\n",
    "plt.tight_layout()\n",
    "plt.show()\n"
   ]
  },
  {
   "cell_type": "code",
   "execution_count": null,
   "id": "57dec73a",
   "metadata": {},
   "outputs": [],
   "source": [
    "\n",
    "i = 1  # choose which flowline to display\n",
    "im = im_flowlines_fine[i]\n",
    "\n",
    "# If grayscale or single-channel: use vmin/vmax to adjust brightness/contrast\n",
    "plt.figure(figsize=(6, 6))\n",
    "plt.imshow(im, cmap='viridis', vmin=0.0, vmax=0.01)  # adjust vmin/vmax as needed\n",
    "# plt.title(f\"Flowline {i}\")\n",
    "plt.axis('off')\n",
    "plt.gca().set_aspect('equal')  # Enforce 1:1 aspect ratio\n",
    "plt.tight_layout()\n",
    "plt.show()\n"
   ]
  },
  {
   "cell_type": "code",
   "execution_count": null,
   "id": "3d9a7f63",
   "metadata": {},
   "outputs": [],
   "source": [
    "\n",
    "i = 2  # choose which flowline to display\n",
    "im = im_flowlines_fine[i]\n",
    "\n",
    "# If grayscale or single-channel: use vmin/vmax to adjust brightness/contrast\n",
    "plt.figure(figsize=(6, 6))\n",
    "plt.imshow(im, cmap='viridis', vmin=0.0, vmax=0.01)  # adjust vmin/vmax as needed\n",
    "# plt.title(f\"Flowline {i}\")\n",
    "plt.axis('off')\n",
    "plt.gca().set_aspect('equal')  # Enforce 1:1 aspect ratio\n",
    "plt.tight_layout()\n",
    "plt.show()\n"
   ]
  },
  {
   "cell_type": "code",
   "execution_count": null,
   "id": "adcef483",
   "metadata": {},
   "outputs": [],
   "source": []
  },
  {
   "cell_type": "code",
   "execution_count": null,
   "id": "9e792040",
   "metadata": {},
   "outputs": [],
   "source": []
  },
  {
   "cell_type": "code",
   "execution_count": null,
   "id": "0546c731",
   "metadata": {},
   "outputs": [],
   "source": []
  },
  {
   "cell_type": "code",
   "execution_count": null,
   "id": "2cf3ba4a",
   "metadata": {},
   "outputs": [],
   "source": []
  }
 ],
 "metadata": {
  "kernelspec": {
   "display_name": "Nicholas_py4dstem",
   "language": "python",
   "name": "python3"
  },
  "language_info": {
   "codemirror_mode": {
    "name": "ipython",
    "version": 3
   },
   "file_extension": ".py",
   "mimetype": "text/x-python",
   "name": "python",
   "nbconvert_exporter": "python",
   "pygments_lexer": "ipython3",
   "version": "3.13.5"
  }
 },
 "nbformat": 4,
 "nbformat_minor": 5
}
